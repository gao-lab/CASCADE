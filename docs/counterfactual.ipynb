{
 "cells": [
  {
   "cell_type": "markdown",
   "id": "4cc6761d-dc6e-4356-90bb-0ab585c06dc6",
   "metadata": {},
   "source": [
    "# Stage 3: Counterfactual prediction\n",
    "\n",
    "In this tutorial, we will walk through how to use the CASCADE model trained\n",
    "in [stage 2](training.ipynb) to conduct counterfactual inference."
   ]
  },
  {
   "cell_type": "code",
   "execution_count": 1,
   "id": "4ce5fe21-bb6d-4f1f-913c-154ef60f767e",
   "metadata": {
    "execution": {
     "iopub.execute_input": "2025-03-20T14:30:32.257466Z",
     "iopub.status.busy": "2025-03-20T14:30:32.257018Z",
     "iopub.status.idle": "2025-03-20T14:30:37.078870Z",
     "shell.execute_reply": "2025-03-20T14:30:37.077980Z",
     "shell.execute_reply.started": "2025-03-20T14:30:32.257420Z"
    }
   },
   "outputs": [],
   "source": [
    "import anndata as ad\n",
    "import networkx as nx\n",
    "import numpy as np\n",
    "import scanpy as sc\n",
    "import seaborn as sns\n",
    "\n",
    "from cascade.data import configure_dataset, encode_regime, get_configuration\n",
    "from cascade.graph import annotate_explanation, core_explanation_graph, prep_cytoscape\n",
    "from cascade.model import CASCADE\n",
    "from cascade.plot import set_figure_params"
   ]
  },
  {
   "cell_type": "code",
   "execution_count": 2,
   "id": "1d698607-eb9b-444e-8839-5b9fd6a3cba3",
   "metadata": {
    "execution": {
     "iopub.execute_input": "2025-03-20T14:30:37.080190Z",
     "iopub.status.busy": "2025-03-20T14:30:37.079728Z",
     "iopub.status.idle": "2025-03-20T14:30:37.089966Z",
     "shell.execute_reply": "2025-03-20T14:30:37.089229Z",
     "shell.execute_reply.started": "2025-03-20T14:30:37.080165Z"
    }
   },
   "outputs": [],
   "source": [
    "set_figure_params()"
   ]
  },
  {
   "cell_type": "markdown",
   "id": "e096b394-a954-4f3a-bbaf-8aae48262871",
   "metadata": {},
   "source": [
    "## Read data and model"
   ]
  },
  {
   "cell_type": "code",
   "execution_count": 3,
   "id": "6e965b63-6dca-45e2-83a1-a3a011d6cae4",
   "metadata": {
    "execution": {
     "iopub.execute_input": "2025-03-20T14:30:37.090969Z",
     "iopub.status.busy": "2025-03-20T14:30:37.090758Z",
     "iopub.status.idle": "2025-03-20T14:30:42.044911Z",
     "shell.execute_reply": "2025-03-20T14:30:42.043894Z",
     "shell.execute_reply.started": "2025-03-20T14:30:37.090950Z"
    }
   },
   "outputs": [],
   "source": [
    "adata = sc.read_h5ad(\"adata.h5ad\")"
   ]
  },
  {
   "cell_type": "code",
   "execution_count": 4,
   "id": "b0fddc6e-96fb-4df8-9d1b-85a45a242116",
   "metadata": {
    "execution": {
     "iopub.execute_input": "2025-03-20T14:30:42.046333Z",
     "iopub.status.busy": "2025-03-20T14:30:42.046114Z",
     "iopub.status.idle": "2025-03-20T14:30:42.576659Z",
     "shell.execute_reply": "2025-03-20T14:30:42.575741Z",
     "shell.execute_reply.started": "2025-03-20T14:30:42.046314Z"
    }
   },
   "outputs": [],
   "source": [
    "cascade = CASCADE.load(\"tune.pt\")"
   ]
  },
  {
   "cell_type": "code",
   "execution_count": 5,
   "id": "90e869da-4c66-4956-90b7-e53e22b160d0",
   "metadata": {
    "execution": {
     "iopub.execute_input": "2025-03-20T14:30:42.578453Z",
     "iopub.status.busy": "2025-03-20T14:30:42.578007Z",
     "iopub.status.idle": "2025-03-20T14:30:46.737700Z",
     "shell.execute_reply": "2025-03-20T14:30:46.736849Z",
     "shell.execute_reply.started": "2025-03-20T14:30:42.578426Z"
    }
   },
   "outputs": [],
   "source": [
    "scaffold = nx.read_gml(\"scaffold.gml.gz\")\n",
    "graph = nx.read_gml(\"discover.gml.gz\")"
   ]
  },
  {
   "cell_type": "markdown",
   "id": "66c8a476-c921-4c19-b5f6-5e3bdd81eb80",
   "metadata": {},
   "source": [
    "## Specify counterfactual condition\n",
    "\n",
    "Suppose we want to predict the counterfactual effect of triple gene perturbation\n",
    "`\"CEBPB,KLF1,MAPK1\"` for the negative control cells, we'll need to first extract\n",
    "some control cells, and then specify the perturbation in a column in `adata.obs`\n",
    "(e.g., `\"my_pert\"`), in the same comma-separated format as the `\"knockup\"` column:"
   ]
  },
  {
   "cell_type": "code",
   "execution_count": 6,
   "id": "5a15621c-2984-46b8-8f0c-ea528ea2b92f",
   "metadata": {
    "execution": {
     "iopub.execute_input": "2025-03-20T14:30:46.740134Z",
     "iopub.status.busy": "2025-03-20T14:30:46.739917Z",
     "iopub.status.idle": "2025-03-20T14:30:46.780473Z",
     "shell.execute_reply": "2025-03-20T14:30:46.779677Z",
     "shell.execute_reply.started": "2025-03-20T14:30:46.740115Z"
    }
   },
   "outputs": [],
   "source": [
    "ctrl = adata[adata.obs[\"knockup\"] == \"\"]\n",
    "sc.pp.subsample(ctrl, n_obs=1000)\n",
    "ctrl.obs[\"my_pert\"] = \"CEBPB,KLF1,MAPK1\""
   ]
  },
  {
   "cell_type": "markdown",
   "id": "15f77fe6-671f-476e-8a66-1568bd51176b",
   "metadata": {},
   "source": [
    "Then we call [encode_regime](api/cascade.data.encode_regime.rst) again to\n",
    "encode this counterfactual perturbation into a binary regime matrix,\n",
    "here in a new layer called `\"ctfact\"`:"
   ]
  },
  {
   "cell_type": "code",
   "execution_count": 7,
   "id": "02c85109-5c4d-49e9-95fd-3e40a9f2aa89",
   "metadata": {
    "execution": {
     "iopub.execute_input": "2025-03-20T14:30:46.781654Z",
     "iopub.status.busy": "2025-03-20T14:30:46.781336Z",
     "iopub.status.idle": "2025-03-20T14:30:46.856585Z",
     "shell.execute_reply": "2025-03-20T14:30:46.855846Z",
     "shell.execute_reply.started": "2025-03-20T14:30:46.781635Z"
    }
   },
   "outputs": [],
   "source": [
    "encode_regime(ctrl, \"ctfact\", key=\"my_pert\")"
   ]
  },
  {
   "cell_type": "markdown",
   "id": "07489735-504f-40e2-aaa3-21247abbccd4",
   "metadata": {},
   "source": [
    "We'd also need to call [configure_dataset](api/cascade.data.configure_dataset.rst)\n",
    "again to let the model use this new regime:"
   ]
  },
  {
   "cell_type": "code",
   "execution_count": 8,
   "id": "98bacafd-8794-4525-b6dc-e7a647c05323",
   "metadata": {
    "execution": {
     "iopub.execute_input": "2025-03-20T14:30:46.857602Z",
     "iopub.status.busy": "2025-03-20T14:30:46.857397Z",
     "iopub.status.idle": "2025-03-20T14:30:46.864782Z",
     "shell.execute_reply": "2025-03-20T14:30:46.864106Z",
     "shell.execute_reply.started": "2025-03-20T14:30:46.857582Z"
    }
   },
   "outputs": [
    {
     "name": "stderr",
     "output_type": "stream",
     "text": [
      "\u001b[32m22:30:46.858\u001b[0m | \u001b[33m\u001b[1mWARNING \u001b[0m | \u001b[33m1633490\u001b[0m:\u001b[36mdata\u001b[0m:\u001b[36mconfigure_dataset\u001b[0m - \u001b[33m\u001b[1mOverwriting existing `regime` = \"interv\".\u001b[0m\n"
     ]
    },
    {
     "data": {
      "text/plain": [
       "{'covariate': 'covariate',\n",
       " 'layer': 'counts',\n",
       " 'regime': 'ctfact',\n",
       " 'size': 'ncounts'}"
      ]
     },
     "execution_count": 8,
     "metadata": {},
     "output_type": "execute_result"
    }
   ],
   "source": [
    "configure_dataset(ctrl, use_regime=\"ctfact\")\n",
    "get_configuration(ctrl)"
   ]
  },
  {
   "cell_type": "markdown",
   "id": "73347548-94b4-42ae-a037-f13f2f32152f",
   "metadata": {},
   "source": [
    "## Run counterfactual prediction\n",
    "\n",
    "Now we use the `counterfactual` method to perform counterfactual prediction\n",
    "with this newly specified perturbation:"
   ]
  },
  {
   "cell_type": "code",
   "execution_count": 9,
   "id": "6023871a-1e3a-4174-b5f8-c248623be190",
   "metadata": {
    "execution": {
     "iopub.execute_input": "2025-03-20T14:30:46.865572Z",
     "iopub.status.busy": "2025-03-20T14:30:46.865396Z",
     "iopub.status.idle": "2025-03-20T14:30:49.578851Z",
     "shell.execute_reply": "2025-03-20T14:30:49.578063Z",
     "shell.execute_reply.started": "2025-03-20T14:30:46.865556Z"
    }
   },
   "outputs": [
    {
     "name": "stdout",
     "output_type": "stream",
     "text": [
      "\u001b[32m22:30:46.885\u001b[0m | \u001b[1mINFO    \u001b[0m | \u001b[33m1633490\u001b[0m:\u001b[36mutils\u001b[0m:\u001b[36mautodevice\u001b[0m - \u001b[1mUsing GPU [3] as computation device.\u001b[0m\n",
      "\u001b[32m22:30:47.051\u001b[0m | \u001b[1mINFO    \u001b[0m | \u001b[33m1633490\u001b[0m:\u001b[36mcore\u001b[0m:\u001b[36mpredict_mode\u001b[0m - \u001b[1mNumber of topological generations: [68, 88, 70, 101]\u001b[0m\n"
     ]
    },
    {
     "data": {
      "application/vnd.jupyter.widget-view+json": {
       "model_id": "371da51767e44dfb817024b79cdc7ab7",
       "version_major": 2,
       "version_minor": 0
      },
      "text/plain": [
       "Predicting: |                                                                                                 …"
      ]
     },
     "metadata": {},
     "output_type": "display_data"
    }
   ],
   "source": [
    "ctfact = cascade.counterfactual(ctrl, sample=True)"
   ]
  },
  {
   "cell_type": "markdown",
   "id": "f525a369-0fd1-4104-ae27-663f213604fd",
   "metadata": {},
   "source": [
    "Here we specified `sample=True` to make the model output random samples from the\n",
    "counterfactual negative binomial distribution, which would better represent\n",
    "the distribution than a simple mean.\n",
    "\n",
    "The prediction will be saved in both `ctfact.X` and `ctfact.layers[\"X_ctfact\"]`,\n",
    "where `ctfact.X` is the average prediction across SVGD particles, and\n",
    "`ctfact.layers[\"X_ctfact\"]` contains the per-particle predictions with shape\n",
    "`(n_obs, n_vars, n_particles)`. Note that both of these are in raw count scale."
   ]
  },
  {
   "cell_type": "code",
   "execution_count": 10,
   "id": "4309b965-b1cd-48fc-acad-2751e9b92e46",
   "metadata": {
    "execution": {
     "iopub.execute_input": "2025-03-20T14:30:49.580781Z",
     "iopub.status.busy": "2025-03-20T14:30:49.580156Z",
     "iopub.status.idle": "2025-03-20T14:30:49.587641Z",
     "shell.execute_reply": "2025-03-20T14:30:49.587044Z",
     "shell.execute_reply.started": "2025-03-20T14:30:49.580746Z"
    }
   },
   "outputs": [
    {
     "data": {
      "text/plain": [
       "array([[  0.  ,   6.5 ,  16.5 , ...,   0.  ,   0.  ,  72.25],\n",
       "       [  1.  ,  10.5 ,  23.25, ...,   0.  ,   0.  , 140.  ],\n",
       "       [  0.  ,  11.75,  32.75, ...,   0.  ,   0.  , 157.5 ],\n",
       "       ...,\n",
       "       [  0.25,   6.  ,  19.5 , ...,   0.  ,   0.  ,  59.25],\n",
       "       [  0.25,   9.  ,  19.5 , ...,   0.  ,   0.  ,  90.75],\n",
       "       [  0.5 ,   4.5 ,  18.  , ...,   0.  ,   0.  ,  77.25]],\n",
       "      dtype=float32)"
      ]
     },
     "execution_count": 10,
     "metadata": {},
     "output_type": "execute_result"
    }
   ],
   "source": [
    "ctfact.X"
   ]
  },
  {
   "cell_type": "code",
   "execution_count": 11,
   "id": "83835396-0e73-499c-9c74-4210f343b8af",
   "metadata": {
    "execution": {
     "iopub.execute_input": "2025-03-20T14:30:49.588578Z",
     "iopub.status.busy": "2025-03-20T14:30:49.588346Z",
     "iopub.status.idle": "2025-03-20T14:30:49.594830Z",
     "shell.execute_reply": "2025-03-20T14:30:49.593951Z",
     "shell.execute_reply.started": "2025-03-20T14:30:49.588555Z"
    }
   },
   "outputs": [
    {
     "data": {
      "text/plain": [
       "(1000, 1064, 4)"
      ]
     },
     "execution_count": 11,
     "metadata": {},
     "output_type": "execute_result"
    }
   ],
   "source": [
    "ctfact.layers[\"X_ctfact\"].shape"
   ]
  },
  {
   "attachments": {},
   "cell_type": "markdown",
   "id": "fb8c7a2a-4503-460d-9d06-85f9bdfea91b",
   "metadata": {},
   "source": [
    "> For counterfactual prediction of [CASCADE designs](design.ipynb), you would\n",
    "> also need to specify the `design` argument to the `counterfactual` method.\n",
    "\n",
    "Please visit the documentation of\n",
    "[counterfactual](api/cascade.model.CASCADE.counterfactual.rst)\n",
    "for more details.\n",
    "\n",
    "The same can also be achieved using the\n",
    "[command line interface](cli.rst#counterfactual-deduction),\n",
    "with the following command:\n",
    "\n",
    "```sh\n",
    "cascade counterfactual -d ctrl.h5ad -m tune.pt -p ctfact.h5ad [other options]\n",
    "```\n",
    "\n",
    "## Counterfactual differential expression comparison\n",
    "\n",
    "To check for counterfactual effects, we are expected to compare the predicted\n",
    "dataset (`ctfact`) with the input dataset (`ctrl`). However, to avoid artifacts\n",
    "caused by model prediction biases, it is recommended to compare the predicted\n",
    "dataset (`ctfact`) with a \"nil prediction\", i.e., model prediction with the\n",
    "original perturbation labels.\n",
    "\n",
    "Here, we can go back to use the `\"interv\"` regime to obtain the \"nil prediction\":"
   ]
  },
  {
   "cell_type": "code",
   "execution_count": 12,
   "id": "a23a0494-93fd-495f-9c8a-279baf5775ea",
   "metadata": {
    "execution": {
     "iopub.execute_input": "2025-03-20T14:30:49.595984Z",
     "iopub.status.busy": "2025-03-20T14:30:49.595741Z",
     "iopub.status.idle": "2025-03-20T14:30:49.603594Z",
     "shell.execute_reply": "2025-03-20T14:30:49.602734Z",
     "shell.execute_reply.started": "2025-03-20T14:30:49.595961Z"
    }
   },
   "outputs": [
    {
     "name": "stderr",
     "output_type": "stream",
     "text": [
      "\u001b[32m22:30:49.596\u001b[0m | \u001b[33m\u001b[1mWARNING \u001b[0m | \u001b[33m1633490\u001b[0m:\u001b[36mdata\u001b[0m:\u001b[36mconfigure_dataset\u001b[0m - \u001b[33m\u001b[1mOverwriting existing `regime` = \"ctfact\".\u001b[0m\n"
     ]
    },
    {
     "data": {
      "text/plain": [
       "{'covariate': 'covariate',\n",
       " 'layer': 'counts',\n",
       " 'regime': 'interv',\n",
       " 'size': 'ncounts'}"
      ]
     },
     "execution_count": 12,
     "metadata": {},
     "output_type": "execute_result"
    }
   ],
   "source": [
    "configure_dataset(ctrl, use_regime=\"interv\")\n",
    "get_configuration(ctrl)"
   ]
  },
  {
   "cell_type": "code",
   "execution_count": 13,
   "id": "7a5fff11-85c0-4da5-8c77-2f8d87eff28d",
   "metadata": {
    "execution": {
     "iopub.execute_input": "2025-03-20T14:30:49.604760Z",
     "iopub.status.busy": "2025-03-20T14:30:49.604533Z",
     "iopub.status.idle": "2025-03-20T14:30:51.809545Z",
     "shell.execute_reply": "2025-03-20T14:30:51.808543Z",
     "shell.execute_reply.started": "2025-03-20T14:30:49.604739Z"
    }
   },
   "outputs": [
    {
     "name": "stdout",
     "output_type": "stream",
     "text": [
      "\u001b[32m22:30:49.790\u001b[0m | \u001b[1mINFO    \u001b[0m | \u001b[33m1633490\u001b[0m:\u001b[36mcore\u001b[0m:\u001b[36mpredict_mode\u001b[0m - \u001b[1mNumber of topological generations: [68, 88, 70, 101]\u001b[0m\n"
     ]
    },
    {
     "data": {
      "application/vnd.jupyter.widget-view+json": {
       "model_id": "7a20c015a98d4bf4abd61a34c37275f3",
       "version_major": 2,
       "version_minor": 0
      },
      "text/plain": [
       "Predicting: |                                                                                                 …"
      ]
     },
     "metadata": {},
     "output_type": "display_data"
    }
   ],
   "source": [
    "nil = cascade.counterfactual(ctrl, sample=True)"
   ]
  },
  {
   "cell_type": "markdown",
   "id": "a9267e9c-bf1c-48b7-86c1-aa441754c549",
   "metadata": {},
   "source": [
    "Now we combine and log-normalize both predictions to perform differential\n",
    "expression analysis:"
   ]
  },
  {
   "cell_type": "code",
   "execution_count": 14,
   "id": "dd55957f-c075-4900-8d3a-133faab1c4c9",
   "metadata": {
    "execution": {
     "iopub.execute_input": "2025-03-20T14:30:51.811022Z",
     "iopub.status.busy": "2025-03-20T14:30:51.810783Z",
     "iopub.status.idle": "2025-03-20T14:30:51.868684Z",
     "shell.execute_reply": "2025-03-20T14:30:51.867795Z",
     "shell.execute_reply.started": "2025-03-20T14:30:51.810999Z"
    }
   },
   "outputs": [
    {
     "data": {
      "text/plain": [
       "AnnData object with n_obs × n_vars = 2000 × 1064\n",
       "    obs: 'guide_id', 'gemgroup', 'ncounts', 'knockup', 'my_pert', 'role'\n",
       "    obsm: 'X_pca', 'covariate'\n",
       "    layers: 'counts', 'interv', 'ctfact', 'X_ctfact'"
      ]
     },
     "execution_count": 14,
     "metadata": {},
     "output_type": "execute_result"
    }
   ],
   "source": [
    "combined = ad.concat({\"nil\": nil, \"ctfact\": ctfact}, label=\"role\", index_unique=\"-\")\n",
    "combined.X = np.log1p(combined.X * (1e4 / combined.obs[[\"ncounts\"]].to_numpy()))\n",
    "combined"
   ]
  },
  {
   "cell_type": "code",
   "execution_count": 15,
   "id": "6b471dd7-d1ab-442b-91e3-70889a766c6a",
   "metadata": {
    "execution": {
     "iopub.execute_input": "2025-03-20T14:30:51.869927Z",
     "iopub.status.busy": "2025-03-20T14:30:51.869701Z",
     "iopub.status.idle": "2025-03-20T14:30:51.986242Z",
     "shell.execute_reply": "2025-03-20T14:30:51.985352Z",
     "shell.execute_reply.started": "2025-03-20T14:30:51.869907Z"
    }
   },
   "outputs": [
    {
     "name": "stderr",
     "output_type": "stream",
     "text": [
      "/rd1/user/caozj/CASCADE/conda/lib/python3.11/site-packages/pandas/core/arraylike.py:399: RuntimeWarning: divide by zero encountered in log10\n",
      "  result = getattr(ufunc, method)(*inputs, **kwargs)\n"
     ]
    },
    {
     "data": {
      "text/html": [
       "<div>\n",
       "<style scoped>\n",
       "    .dataframe tbody tr th:only-of-type {\n",
       "        vertical-align: middle;\n",
       "    }\n",
       "\n",
       "    .dataframe tbody tr th {\n",
       "        vertical-align: top;\n",
       "    }\n",
       "\n",
       "    .dataframe thead th {\n",
       "        text-align: right;\n",
       "    }\n",
       "</style>\n",
       "<table border=\"1\" class=\"dataframe\">\n",
       "  <thead>\n",
       "    <tr style=\"text-align: right;\">\n",
       "      <th></th>\n",
       "      <th>names</th>\n",
       "      <th>scores</th>\n",
       "      <th>logfoldchanges</th>\n",
       "      <th>pvals</th>\n",
       "      <th>pvals_adj</th>\n",
       "      <th>pct_nz_group</th>\n",
       "      <th>-logfdr</th>\n",
       "    </tr>\n",
       "  </thead>\n",
       "  <tbody>\n",
       "    <tr>\n",
       "      <th>0</th>\n",
       "      <td>KLF1</td>\n",
       "      <td>207.035004</td>\n",
       "      <td>1.951955</td>\n",
       "      <td>0.0</td>\n",
       "      <td>0.0</td>\n",
       "      <td>1.0</td>\n",
       "      <td>350.0</td>\n",
       "    </tr>\n",
       "    <tr>\n",
       "      <th>1</th>\n",
       "      <td>PNMT</td>\n",
       "      <td>171.383087</td>\n",
       "      <td>2.364175</td>\n",
       "      <td>0.0</td>\n",
       "      <td>0.0</td>\n",
       "      <td>1.0</td>\n",
       "      <td>350.0</td>\n",
       "    </tr>\n",
       "    <tr>\n",
       "      <th>2</th>\n",
       "      <td>CEBPB</td>\n",
       "      <td>152.714493</td>\n",
       "      <td>2.131128</td>\n",
       "      <td>0.0</td>\n",
       "      <td>0.0</td>\n",
       "      <td>1.0</td>\n",
       "      <td>350.0</td>\n",
       "    </tr>\n",
       "    <tr>\n",
       "      <th>3</th>\n",
       "      <td>TMSB10</td>\n",
       "      <td>144.004883</td>\n",
       "      <td>1.232379</td>\n",
       "      <td>0.0</td>\n",
       "      <td>0.0</td>\n",
       "      <td>1.0</td>\n",
       "      <td>350.0</td>\n",
       "    </tr>\n",
       "    <tr>\n",
       "      <th>4</th>\n",
       "      <td>MAPK1</td>\n",
       "      <td>134.214584</td>\n",
       "      <td>1.047204</td>\n",
       "      <td>0.0</td>\n",
       "      <td>0.0</td>\n",
       "      <td>1.0</td>\n",
       "      <td>350.0</td>\n",
       "    </tr>\n",
       "  </tbody>\n",
       "</table>\n",
       "</div>"
      ],
      "text/plain": [
       "    names      scores  logfoldchanges  pvals  pvals_adj  pct_nz_group  -logfdr\n",
       "0    KLF1  207.035004        1.951955    0.0        0.0           1.0    350.0\n",
       "1    PNMT  171.383087        2.364175    0.0        0.0           1.0    350.0\n",
       "2   CEBPB  152.714493        2.131128    0.0        0.0           1.0    350.0\n",
       "3  TMSB10  144.004883        1.232379    0.0        0.0           1.0    350.0\n",
       "4   MAPK1  134.214584        1.047204    0.0        0.0           1.0    350.0"
      ]
     },
     "execution_count": 15,
     "metadata": {},
     "output_type": "execute_result"
    }
   ],
   "source": [
    "sc.tl.rank_genes_groups(combined, \"role\", reference=\"nil\", rankby_abs=True, pts=True)\n",
    "de_df = sc.get.rank_genes_groups_df(combined, \"ctfact\").query(\"pct_nz_group > 0.05\")\n",
    "de_df[\"-logfdr\"] = -np.log10(de_df[\"pvals_adj\"]).clip(lower=-350)\n",
    "de_df.head()"
   ]
  },
  {
   "cell_type": "code",
   "execution_count": 16,
   "id": "d09be7f2-3d84-4cac-86bf-a67414f39549",
   "metadata": {
    "execution": {
     "iopub.execute_input": "2025-03-20T14:30:51.987575Z",
     "iopub.status.busy": "2025-03-20T14:30:51.987281Z",
     "iopub.status.idle": "2025-03-20T14:30:52.153651Z",
     "shell.execute_reply": "2025-03-20T14:30:52.152845Z",
     "shell.execute_reply.started": "2025-03-20T14:30:51.987554Z"
    }
   },
   "outputs": [
    {
     "data": {
      "image/png": "[encoded data removed]",
      "text/plain": [
       "<Figure size 320x320 with 1 Axes>"
      ]
     },
     "metadata": {
      "image/png": {
       "height": 302,
       "width": 322
      },
      "needs_background": "light"
     },
     "output_type": "display_data"
    }
   ],
   "source": [
    "ax = sns.scatterplot(data=de_df, x=\"logfoldchanges\", y=\"-logfdr\", edgecolor=None, s=5)"
   ]
  },
  {
   "cell_type": "markdown",
   "id": "3dae1376-b45b-403b-9465-6675551e7141",
   "metadata": {},
   "source": [
    "## Explain counterfactual prediction\n",
    "\n",
    "To understand why CASCADE made the above prediction, we can use the `explain`\n",
    "method to decompose the contribution into individual components in the model.\n",
    "\n",
    "The method needs both a factual dataset (`ctrl`) and a counterfactual\n",
    "prediction (`ctfact`), properly configured as below:"
   ]
  },
  {
   "cell_type": "code",
   "execution_count": 17,
   "id": "63a55788-22eb-4fa6-ab4f-d662163d9134",
   "metadata": {
    "execution": {
     "iopub.execute_input": "2025-03-20T14:30:52.154493Z",
     "iopub.status.busy": "2025-03-20T14:30:52.154303Z",
     "iopub.status.idle": "2025-03-20T14:30:52.159895Z",
     "shell.execute_reply": "2025-03-20T14:30:52.159104Z",
     "shell.execute_reply.started": "2025-03-20T14:30:52.154476Z"
    }
   },
   "outputs": [
    {
     "data": {
      "text/plain": [
       "{'covariate': 'covariate',\n",
       " 'layer': 'counts',\n",
       " 'regime': 'interv',\n",
       " 'size': 'ncounts'}"
      ]
     },
     "execution_count": 17,
     "metadata": {},
     "output_type": "execute_result"
    }
   ],
   "source": [
    "configure_dataset(ctrl, use_regime=\"interv\")\n",
    "get_configuration(ctrl)"
   ]
  },
  {
   "cell_type": "code",
   "execution_count": 18,
   "id": "5f694a09-b0f0-4edb-88db-5248d7608e83",
   "metadata": {
    "execution": {
     "iopub.execute_input": "2025-03-20T14:30:52.160901Z",
     "iopub.status.busy": "2025-03-20T14:30:52.160695Z",
     "iopub.status.idle": "2025-03-20T14:30:52.167567Z",
     "shell.execute_reply": "2025-03-20T14:30:52.166760Z",
     "shell.execute_reply.started": "2025-03-20T14:30:52.160882Z"
    }
   },
   "outputs": [
    {
     "name": "stderr",
     "output_type": "stream",
     "text": [
      "\u001b[32m22:30:52.161\u001b[0m | \u001b[33m\u001b[1mWARNING \u001b[0m | \u001b[33m1633490\u001b[0m:\u001b[36mdata\u001b[0m:\u001b[36mconfigure_dataset\u001b[0m - \u001b[33m\u001b[1mOverwriting existing `layer` = \"counts\".\u001b[0m\n"
     ]
    },
    {
     "data": {
      "text/plain": [
       "{'covariate': 'covariate',\n",
       " 'layer': 'X_ctfact',\n",
       " 'regime': 'ctfact',\n",
       " 'size': 'ncounts'}"
      ]
     },
     "execution_count": 18,
     "metadata": {},
     "output_type": "execute_result"
    }
   ],
   "source": [
    "configure_dataset(ctfact, use_layer=\"X_ctfact\")\n",
    "get_configuration(ctfact)"
   ]
  },
  {
   "cell_type": "code",
   "execution_count": 19,
   "id": "5cb1e286-77fe-4026-ad0c-f534c57bc294",
   "metadata": {
    "execution": {
     "iopub.execute_input": "2025-03-20T14:30:52.168550Z",
     "iopub.status.busy": "2025-03-20T14:30:52.168355Z",
     "iopub.status.idle": "2025-03-20T14:30:57.709280Z",
     "shell.execute_reply": "2025-03-20T14:30:57.708573Z",
     "shell.execute_reply.started": "2025-03-20T14:30:52.168531Z"
    }
   },
   "outputs": [
    {
     "data": {
      "application/vnd.jupyter.widget-view+json": {
       "model_id": "d2a9085620904ba2ab06f42eb4269b17",
       "version_major": 2,
       "version_minor": 0
      },
      "text/plain": [
       "Predicting: |                                                                                                 …"
      ]
     },
     "metadata": {},
     "output_type": "display_data"
    },
    {
     "data": {
      "text/plain": [
       "AnnData object with n_obs × n_vars = 1000 × 1064\n",
       "    obs: 'guide_id', 'gemgroup', 'ncounts', 'knockup', 'my_pert'\n",
       "    var: 'perturbed', 'highly_variable', 'highly_variable_rank', 'means', 'variances', 'variances_norm', 'selected'\n",
       "    uns: '__CASCADE__', 'hvg', 'log1p', 'pca'\n",
       "    obsm: 'X_pca', 'covariate'\n",
       "    varm: 'PCs'\n",
       "    layers: 'counts', 'interv', 'ctfact', 'X_ctfact', 'X_nil', 'X_ctrb_i', 'X_ctrb_s', 'X_ctrb_z', 'X_ctrb_ptr', 'X_tot'"
      ]
     },
     "execution_count": 19,
     "metadata": {},
     "output_type": "execute_result"
    }
   ],
   "source": [
    "explanation = cascade.explain(ctrl, ctfact)\n",
    "explanation"
   ]
  },
  {
   "cell_type": "markdown",
   "id": "d7e833e5-aa93-41e5-bfaa-751b2ee85878",
   "metadata": {},
   "source": [
    "The explanation is also an `AnnData` dataset with predictions from individual\n",
    "model components saved in separate layers.\n",
    "\n",
    "We can pass this explanation dataset to the\n",
    "[annotate_explanation](api/cascade.graph.annotate_explanation.rst) function\n",
    "to annotate the contributions on graph nodes and edges:"
   ]
  },
  {
   "cell_type": "code",
   "execution_count": 20,
   "id": "4d3e1d66-f47b-4a2a-9326-37870de30fa4",
   "metadata": {
    "execution": {
     "iopub.execute_input": "2025-03-20T14:30:57.710752Z",
     "iopub.status.busy": "2025-03-20T14:30:57.710488Z",
     "iopub.status.idle": "2025-03-20T14:30:58.442840Z",
     "shell.execute_reply": "2025-03-20T14:30:58.442093Z",
     "shell.execute_reply.started": "2025-03-20T14:30:57.710724Z"
    }
   },
   "outputs": [
    {
     "data": {
      "text/plain": [
       "(1064, 12294)"
      ]
     },
     "execution_count": 20,
     "metadata": {},
     "output_type": "execute_result"
    }
   ],
   "source": [
    "explanation_graph = annotate_explanation(\n",
    "    graph, explanation, cascade.export_causal_map()\n",
    ")\n",
    "explanation_graph.number_of_nodes(), explanation_graph.number_of_edges()"
   ]
  },
  {
   "cell_type": "markdown",
   "id": "63038ba9-d36c-4ef2-be3c-a151c82e34c4",
   "metadata": {},
   "source": [
    "Note that `annotate_explanation` has a `cutoff` argument (by default 0.2)\n",
    "that you may want to adjust, which specifies an cutoff of predicted effect\n",
    "(in log-normalized expression space), below which the effect is deemed too\n",
    "small to explain.\n",
    "\n",
    "We can then extract a core subgraph that explains expression changes for a\n",
    "specific list of genes (e.g., top 10 genes with the most prominent changes),\n",
    "using the [core_explanation_graph](api/cascade.graph.core_explanation_graph.rst)\n",
    "function:"
   ]
  },
  {
   "cell_type": "code",
   "execution_count": 21,
   "id": "593cc1d5-7289-4be2-be59-78710ba89b66",
   "metadata": {
    "execution": {
     "iopub.execute_input": "2025-03-20T14:30:58.445630Z",
     "iopub.status.busy": "2025-03-20T14:30:58.445424Z",
     "iopub.status.idle": "2025-03-20T14:30:58.451536Z",
     "shell.execute_reply": "2025-03-20T14:30:58.450840Z",
     "shell.execute_reply.started": "2025-03-20T14:30:58.445611Z"
    }
   },
   "outputs": [
    {
     "data": {
      "text/plain": [
       "['KLF1',\n",
       " 'PNMT',\n",
       " 'CEBPB',\n",
       " 'TMSB10',\n",
       " 'MAPK1',\n",
       " 'S100A11',\n",
       " 'ISG15',\n",
       " 'SH3BGRL3',\n",
       " 'FCER1G',\n",
       " 'S100A10',\n",
       " 'GMFG',\n",
       " 'IL2RG',\n",
       " 'PIM1',\n",
       " 'NPW',\n",
       " 'BLVRB',\n",
       " 'ACTB',\n",
       " 'EMP3',\n",
       " 'NTRK1',\n",
       " 'LGALS1',\n",
       " 'RELN']"
      ]
     },
     "execution_count": 21,
     "metadata": {},
     "output_type": "execute_result"
    }
   ],
   "source": [
    "response = de_df[\"names\"].head(20).to_list()\n",
    "response"
   ]
  },
  {
   "cell_type": "code",
   "execution_count": 22,
   "id": "5ac858a8-0896-4984-8d9c-4262a8b508fd",
   "metadata": {
    "execution": {
     "iopub.execute_input": "2025-03-20T14:30:58.452365Z",
     "iopub.status.busy": "2025-03-20T14:30:58.452189Z",
     "iopub.status.idle": "2025-03-20T14:30:58.462276Z",
     "shell.execute_reply": "2025-03-20T14:30:58.461579Z",
     "shell.execute_reply.started": "2025-03-20T14:30:58.452349Z"
    }
   },
   "outputs": [
    {
     "data": {
      "text/plain": [
       "(50, 107)"
      ]
     },
     "execution_count": 22,
     "metadata": {},
     "output_type": "execute_result"
    }
   ],
   "source": [
    "core_subgraph = core_explanation_graph(explanation_graph, response)\n",
    "core_subgraph.number_of_nodes(), core_subgraph.number_of_edges()"
   ]
  },
  {
   "cell_type": "markdown",
   "id": "a5ba31b6-bd8b-4211-82b1-65048a4886f6",
   "metadata": {},
   "source": [
    "This core subgraph can be exported to [Cytoscape](https://cytoscape.org/)\n",
    "for visualization using the utility function\n",
    "[prep_cytoscape](api/cascade.graph.prep_cytoscape.rst):"
   ]
  },
  {
   "cell_type": "code",
   "execution_count": 23,
   "id": "c3853472-eedd-4866-9381-d85f0cb1c6ea",
   "metadata": {
    "execution": {
     "iopub.execute_input": "2025-03-20T14:30:58.463041Z",
     "iopub.status.busy": "2025-03-20T14:30:58.462871Z",
     "iopub.status.idle": "2025-03-20T14:30:58.473348Z",
     "shell.execute_reply": "2025-03-20T14:30:58.472610Z",
     "shell.execute_reply.started": "2025-03-20T14:30:58.463025Z"
    }
   },
   "outputs": [],
   "source": [
    "nx.write_gml(\n",
    "    prep_cytoscape(core_subgraph, scaffold, [\"CEBPB\", \"KLF1\", \"MAPK1\"], response),\n",
    "    \"cytoscape.gml\",\n",
    ")"
   ]
  },
  {
   "cell_type": "markdown",
   "id": "15af28e9-82f6-4171-9dea-b776a8ee48c1",
   "metadata": {},
   "source": [
    "You may download a template Cytoscape file containing corresponding styles from:\n",
    "\n",
    "- http://ftp.cbi.pku.edu.cn/pub/cascade-download/template.cys\n",
    "\n",
    "Click here to apply style:\n",
    "\n",
    "![style](style.png)\n",
    "\n",
    "Below is an example visualization of the above core explanation graph:\n",
    "\n",
    "![cytoscape](cytoscape.png)"
   ]
  }
 ],
 "metadata": {
  "jupytext": {
   "formats": "ipynb,py:percent"
  },
  "kernelspec": {
   "display_name": "Python 3 (ipykernel)",
   "language": "python",
   "name": "python3"
  },
  "language_info": {
   "codemirror_mode": {
    "name": "ipython",
    "version": 3
   },
   "file_extension": ".py",
   "mimetype": "text/x-python",
   "name": "python",
   "nbconvert_exporter": "python",
   "pygments_lexer": "ipython3",
   "version": "3.11.9"
  },
  "widgets": {
   "application/vnd.jupyter.widget-state+json": {
    "state": {
     "0f1d788bed1c4d8697011ea4071f9cfc": {
      "model_module": "@jupyter-widgets/base",
      "model_module_version": "2.0.0",
      "model_name": "LayoutModel",
      "state": {}
     },
     "125f147fd0464b09beda57280a3e3b62": {
      "model_module": "@jupyter-widgets/controls",
      "model_module_version": "2.0.0",
      "model_name": "HTMLModel",
      "state": {
       "layout": "IPY_MODEL_1e983bcc805d43579cf629f29c07fb56",
       "style": "IPY_MODEL_ab6de4b1e6a04f2caaacb63f13ba77f9",
       "value": "Predicting DataLoader 0: 100%"
      }
     },
     "1bb1b60182cf4ef4adf18bca655a149a": {
      "model_module": "@jupyter-widgets/base",
      "model_module_version": "2.0.0",
      "model_name": "LayoutModel",
      "state": {
       "flex": "2"
      }
     },
     "1e983bcc805d43579cf629f29c07fb56": {
      "model_module": "@jupyter-widgets/base",
      "model_module_version": "2.0.0",
      "model_name": "LayoutModel",
      "state": {}
     },
     "28a254701fc14ac993a01cb1575818d7": {
      "model_module": "@jupyter-widgets/controls",
      "model_module_version": "2.0.0",
      "model_name": "HTMLModel",
      "state": {
       "layout": "IPY_MODEL_7ce1cce07ff44d139b997ba79dad62a7",
       "style": "IPY_MODEL_306458bd0f454ed5b7f300e1cba4a3f9",
       "value": "Predicting DataLoader 0: 100%"
      }
     },
     "306458bd0f454ed5b7f300e1cba4a3f9": {
      "model_module": "@jupyter-widgets/controls",
      "model_module_version": "2.0.0",
      "model_name": "HTMLStyleModel",
      "state": {
       "description_width": "",
       "font_size": null,
       "text_color": null
      }
     },
     "371da51767e44dfb817024b79cdc7ab7": {
      "model_module": "@jupyter-widgets/controls",
      "model_module_version": "2.0.0",
      "model_name": "HBoxModel",
      "state": {
       "children": [
        "IPY_MODEL_125f147fd0464b09beda57280a3e3b62",
        "IPY_MODEL_da507ec17fc04c81b949bbab5e611615",
        "IPY_MODEL_e81cc4db6bd147bbae5c2b9fa8456db3"
       ],
       "layout": "IPY_MODEL_3d71e59f742041b98210aa43bf5be879"
      }
     },
     "3d71e59f742041b98210aa43bf5be879": {
      "model_module": "@jupyter-widgets/base",
      "model_module_version": "2.0.0",
      "model_name": "LayoutModel",
      "state": {
       "display": "inline-flex",
       "flex_flow": "row wrap",
       "width": "100%"
      }
     },
     "45aae0caff6d4001b36858e515aef625": {
      "model_module": "@jupyter-widgets/controls",
      "model_module_version": "2.0.0",
      "model_name": "FloatProgressModel",
      "state": {
       "bar_style": "success",
       "layout": "IPY_MODEL_a64bf78151694e9b8ca42f97c8dbe2cd",
       "max": 8,
       "style": "IPY_MODEL_83822011bcf1489c91679ed8a9af5437",
       "value": 8
      }
     },
     "4f87c774ceb3404ea5ec86e1dbec4972": {
      "model_module": "@jupyter-widgets/base",
      "model_module_version": "2.0.0",
      "model_name": "LayoutModel",
      "state": {}
     },
     "552a372f615149ee994cd18dceed7ffc": {
      "model_module": "@jupyter-widgets/base",
      "model_module_version": "2.0.0",
      "model_name": "LayoutModel",
      "state": {}
     },
     "573961df20774dba85968739efc199bc": {
      "model_module": "@jupyter-widgets/controls",
      "model_module_version": "2.0.0",
      "model_name": "HTMLStyleModel",
      "state": {
       "description_width": "",
       "font_size": null,
       "text_color": null
      }
     },
     "6d927556d8264ee7ab7c391a7ab1b8de": {
      "model_module": "@jupyter-widgets/controls",
      "model_module_version": "2.0.0",
      "model_name": "HTMLStyleModel",
      "state": {
       "description_width": "",
       "font_size": null,
       "text_color": null
      }
     },
     "7a20c015a98d4bf4abd61a34c37275f3": {
      "model_module": "@jupyter-widgets/controls",
      "model_module_version": "2.0.0",
      "model_name": "HBoxModel",
      "state": {
       "children": [
        "IPY_MODEL_28a254701fc14ac993a01cb1575818d7",
        "IPY_MODEL_ac5e5a6e472c4d999f2ef122982b3cbe",
        "IPY_MODEL_b6725a8af7fd410ab6eb1eff251dbef6"
       ],
       "layout": "IPY_MODEL_e1e8049263504f5fa1f40e7676d4ea73"
      }
     },
     "7ce1cce07ff44d139b997ba79dad62a7": {
      "model_module": "@jupyter-widgets/base",
      "model_module_version": "2.0.0",
      "model_name": "LayoutModel",
      "state": {}
     },
     "83822011bcf1489c91679ed8a9af5437": {
      "model_module": "@jupyter-widgets/controls",
      "model_module_version": "2.0.0",
      "model_name": "ProgressStyleModel",
      "state": {
       "description_width": ""
      }
     },
     "8a45696884ad4fc1b33f66a65ebdb6c4": {
      "model_module": "@jupyter-widgets/base",
      "model_module_version": "2.0.0",
      "model_name": "LayoutModel",
      "state": {
       "flex": "2"
      }
     },
     "8ec6b0227f0a40d2b6adc9a115a0cf48": {
      "model_module": "@jupyter-widgets/controls",
      "model_module_version": "2.0.0",
      "model_name": "ProgressStyleModel",
      "state": {
       "description_width": ""
      }
     },
     "922a3f7efe2841c4979850c0863a6a5f": {
      "model_module": "@jupyter-widgets/base",
      "model_module_version": "2.0.0",
      "model_name": "LayoutModel",
      "state": {}
     },
     "a35a27f447be4739a801f0c2c6ded9c2": {
      "model_module": "@jupyter-widgets/base",
      "model_module_version": "2.0.0",
      "model_name": "LayoutModel",
      "state": {
       "display": "inline-flex",
       "flex_flow": "row wrap",
       "width": "100%"
      }
     },
     "a64bf78151694e9b8ca42f97c8dbe2cd": {
      "model_module": "@jupyter-widgets/base",
      "model_module_version": "2.0.0",
      "model_name": "LayoutModel",
      "state": {
       "flex": "2"
      }
     },
     "ab6de4b1e6a04f2caaacb63f13ba77f9": {
      "model_module": "@jupyter-widgets/controls",
      "model_module_version": "2.0.0",
      "model_name": "HTMLStyleModel",
      "state": {
       "description_width": "",
       "font_size": null,
       "text_color": null
      }
     },
     "ac5e5a6e472c4d999f2ef122982b3cbe": {
      "model_module": "@jupyter-widgets/controls",
      "model_module_version": "2.0.0",
      "model_name": "FloatProgressModel",
      "state": {
       "bar_style": "success",
       "layout": "IPY_MODEL_8a45696884ad4fc1b33f66a65ebdb6c4",
       "max": 8,
       "style": "IPY_MODEL_8ec6b0227f0a40d2b6adc9a115a0cf48",
       "value": 8
      }
     },
     "b0bd890f09924498b3b4005e1fd3e627": {
      "model_module": "@jupyter-widgets/controls",
      "model_module_version": "2.0.0",
      "model_name": "HTMLStyleModel",
      "state": {
       "description_width": "",
       "font_size": null,
       "text_color": null
      }
     },
     "b6725a8af7fd410ab6eb1eff251dbef6": {
      "model_module": "@jupyter-widgets/controls",
      "model_module_version": "2.0.0",
      "model_name": "HTMLModel",
      "state": {
       "layout": "IPY_MODEL_4f87c774ceb3404ea5ec86e1dbec4972",
       "style": "IPY_MODEL_573961df20774dba85968739efc199bc",
       "value": " 8/8 [00:01&lt;00:00,  5.39it/s]"
      }
     },
     "bd8e35959e96498fad4a16af61034ee4": {
      "model_module": "@jupyter-widgets/controls",
      "model_module_version": "2.0.0",
      "model_name": "HTMLModel",
      "state": {
       "layout": "IPY_MODEL_0f1d788bed1c4d8697011ea4071f9cfc",
       "style": "IPY_MODEL_b0bd890f09924498b3b4005e1fd3e627",
       "value": " 8/8 [00:04&lt;00:00,  1.65it/s]"
      }
     },
     "d2a9085620904ba2ab06f42eb4269b17": {
      "model_module": "@jupyter-widgets/controls",
      "model_module_version": "2.0.0",
      "model_name": "HBoxModel",
      "state": {
       "children": [
        "IPY_MODEL_dc7214b96486478986528cef0bfaebe6",
        "IPY_MODEL_45aae0caff6d4001b36858e515aef625",
        "IPY_MODEL_bd8e35959e96498fad4a16af61034ee4"
       ],
       "layout": "IPY_MODEL_a35a27f447be4739a801f0c2c6ded9c2"
      }
     },
     "da507ec17fc04c81b949bbab5e611615": {
      "model_module": "@jupyter-widgets/controls",
      "model_module_version": "2.0.0",
      "model_name": "FloatProgressModel",
      "state": {
       "bar_style": "success",
       "layout": "IPY_MODEL_1bb1b60182cf4ef4adf18bca655a149a",
       "max": 8,
       "style": "IPY_MODEL_f22261696d94452594d7a703b2029c75",
       "value": 8
      }
     },
     "dc7214b96486478986528cef0bfaebe6": {
      "model_module": "@jupyter-widgets/controls",
      "model_module_version": "2.0.0",
      "model_name": "HTMLModel",
      "state": {
       "layout": "IPY_MODEL_922a3f7efe2841c4979850c0863a6a5f",
       "style": "IPY_MODEL_6d927556d8264ee7ab7c391a7ab1b8de",
       "value": "Predicting DataLoader 0: 100%"
      }
     },
     "e1e8049263504f5fa1f40e7676d4ea73": {
      "model_module": "@jupyter-widgets/base",
      "model_module_version": "2.0.0",
      "model_name": "LayoutModel",
      "state": {
       "display": "inline-flex",
       "flex_flow": "row wrap",
       "width": "100%"
      }
     },
     "e81cc4db6bd147bbae5c2b9fa8456db3": {
      "model_module": "@jupyter-widgets/controls",
      "model_module_version": "2.0.0",
      "model_name": "HTMLModel",
      "state": {
       "layout": "IPY_MODEL_552a372f615149ee994cd18dceed7ffc",
       "style": "IPY_MODEL_fa44dbb9bc414f3abc1dc2367d176856",
       "value": " 8/8 [00:01&lt;00:00,  4.25it/s]"
      }
     },
     "f22261696d94452594d7a703b2029c75": {
      "model_module": "@jupyter-widgets/controls",
      "model_module_version": "2.0.0",
      "model_name": "ProgressStyleModel",
      "state": {
       "description_width": ""
      }
     },
     "fa44dbb9bc414f3abc1dc2367d176856": {
      "model_module": "@jupyter-widgets/controls",
      "model_module_version": "2.0.0",
      "model_name": "HTMLStyleModel",
      "state": {
       "description_width": "",
       "font_size": null,
       "text_color": null
      }
     }
    },
    "version_major": 2,
    "version_minor": 0
   }
  }
 },
 "nbformat": 4,
 "nbformat_minor": 5
}
