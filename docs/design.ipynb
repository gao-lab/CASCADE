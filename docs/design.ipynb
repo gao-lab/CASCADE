{
 "cells": [
  {
   "cell_type": "markdown",
   "id": "f57f260f-e5d3-424e-ae55-b11d4e5fab59",
   "metadata": {},
   "source": [
    "# Stage 4: Intervention design\n",
    "\n",
    "In this tutorial, we'll walk through how to use the CASCADE model trained in\n",
    "[stage 2](training.ipynb) to perform targeted intervention design, using\n",
    "K562-to-erythroid differentiation as an example."
   ]
  },
  {
   "cell_type": "code",
   "execution_count": 1,
   "id": "72c9dd12-2c29-424f-9e55-3f9166928ac2",
   "metadata": {
    "execution": {
     "iopub.execute_input": "2025-03-23T09:32:18.074620Z",
     "iopub.status.busy": "2025-03-23T09:32:18.074186Z",
     "iopub.status.idle": "2025-03-23T09:32:22.820404Z",
     "shell.execute_reply": "2025-03-23T09:32:22.819488Z",
     "shell.execute_reply.started": "2025-03-23T09:32:18.074574Z"
    }
   },
   "outputs": [],
   "source": [
    "import anndata as ad\n",
    "import numpy as np\n",
    "import pandas as pd\n",
    "import scanpy as sc\n",
    "import seaborn as sns\n",
    "from scipy.sparse import csr_matrix\n",
    "\n",
    "from cascade.data import (\n",
    "    configure_dataset,\n",
    "    encode_regime,\n",
    "    get_all_targets,\n",
    "    get_configuration,\n",
    ")\n",
    "from cascade.model import CASCADE, IntervDesign\n",
    "from cascade.plot import plot_design_error_curve, plot_design_scores, set_figure_params"
   ]
  },
  {
   "cell_type": "code",
   "execution_count": 2,
   "id": "548b5c2c-b4ce-42e7-83c5-26faee143247",
   "metadata": {
    "execution": {
     "iopub.execute_input": "2025-03-23T09:32:22.822530Z",
     "iopub.status.busy": "2025-03-23T09:32:22.822071Z",
     "iopub.status.idle": "2025-03-23T09:32:22.832240Z",
     "shell.execute_reply": "2025-03-23T09:32:22.831514Z",
     "shell.execute_reply.started": "2025-03-23T09:32:22.822507Z"
    },
    "scrolled": true
   },
   "outputs": [],
   "source": [
    "set_figure_params()"
   ]
  },
  {
   "cell_type": "markdown",
   "id": "eb5caada-c122-4f0c-9962-4537722adebf",
   "metadata": {},
   "source": [
    "## Prepare source data\n",
    "\n",
    "First, we will extract the source state, i.e., unperturbed K562 cells from our\n",
    "preprocessed data:"
   ]
  },
  {
   "cell_type": "code",
   "execution_count": 3,
   "id": "98243314-f2e5-4f32-a062-5f9b6c84baec",
   "metadata": {
    "execution": {
     "iopub.execute_input": "2025-03-23T09:32:22.833057Z",
     "iopub.status.busy": "2025-03-23T09:32:22.832875Z",
     "iopub.status.idle": "2025-03-23T09:32:27.863915Z",
     "shell.execute_reply": "2025-03-23T09:32:27.863055Z",
     "shell.execute_reply.started": "2025-03-23T09:32:22.833039Z"
    }
   },
   "outputs": [
    {
     "data": {
      "text/plain": [
       "AnnData object with n_obs × n_vars = 86744 × 1064\n",
       "    obs: 'guide_id', 'gemgroup', 'ncounts', 'knockup'\n",
       "    var: 'perturbed', 'highly_variable', 'highly_variable_rank', 'means', 'variances', 'variances_norm', 'selected'\n",
       "    uns: '__CASCADE__', 'hvg', 'log1p', 'pca'\n",
       "    obsm: 'X_pca', 'covariate'\n",
       "    varm: 'PCs'\n",
       "    layers: 'counts', 'interv'"
      ]
     },
     "execution_count": 3,
     "metadata": {},
     "output_type": "execute_result"
    }
   ],
   "source": [
    "adata = sc.read_h5ad(\"adata.h5ad\")\n",
    "adata"
   ]
  },
  {
   "cell_type": "code",
   "execution_count": 4,
   "id": "fdc65fb6-3cf8-470b-8ddf-954c31853eb9",
   "metadata": {
    "execution": {
     "iopub.execute_input": "2025-03-23T09:32:27.865249Z",
     "iopub.status.busy": "2025-03-23T09:32:27.865026Z",
     "iopub.status.idle": "2025-03-23T09:32:28.005043Z",
     "shell.execute_reply": "2025-03-23T09:32:28.004292Z",
     "shell.execute_reply.started": "2025-03-23T09:32:27.865230Z"
    }
   },
   "outputs": [
    {
     "data": {
      "text/plain": [
       "AnnData object with n_obs × n_vars = 11855 × 1064\n",
       "    obs: 'guide_id', 'gemgroup', 'ncounts', 'knockup'\n",
       "    var: 'perturbed', 'highly_variable', 'highly_variable_rank', 'means', 'variances', 'variances_norm', 'selected'\n",
       "    uns: '__CASCADE__', 'hvg', 'log1p', 'pca'\n",
       "    obsm: 'X_pca', 'covariate'\n",
       "    varm: 'PCs'\n",
       "    layers: 'counts', 'interv'"
      ]
     },
     "execution_count": 4,
     "metadata": {},
     "output_type": "execute_result"
    }
   ],
   "source": [
    "source = adata[adata.obs[\"knockup\"] == \"\"].copy()\n",
    "source"
   ]
  },
  {
   "cell_type": "markdown",
   "id": "2bf889c4-558d-4a3c-a398-1f2903cadf69",
   "metadata": {},
   "source": [
    "## Prepare target data\n",
    "\n",
    "Next, we use an erythroid scRNA-seq dataset from\n",
    "[Xu, et al. (2022)](https://doi.org/10.1038/s41590-022-01245-8) as the\n",
    "target state. The data file can be downloaded from here:\n",
    "\n",
    "- http://ftp.cbi.pku.edu.cn/pub/cascade-download/Xu-2022.h5ad"
   ]
  },
  {
   "cell_type": "code",
   "execution_count": 5,
   "id": "256d5848-e696-497e-a016-77869ee27d69",
   "metadata": {
    "execution": {
     "iopub.execute_input": "2025-03-23T09:32:28.006029Z",
     "iopub.status.busy": "2025-03-23T09:32:28.005804Z",
     "iopub.status.idle": "2025-03-23T09:32:33.886187Z",
     "shell.execute_reply": "2025-03-23T09:32:33.885668Z",
     "shell.execute_reply.started": "2025-03-23T09:32:28.006010Z"
    }
   },
   "outputs": [
    {
     "data": {
      "text/plain": [
       "AnnData object with n_obs × n_vars = 74460 × 27069\n",
       "    obs: 'Clusters', 'batch', 'stage', 'ncounts'"
      ]
     },
     "execution_count": 5,
     "metadata": {},
     "output_type": "execute_result"
    }
   ],
   "source": [
    "target = sc.read_h5ad(\"Xu-2022.h5ad\")\n",
    "target"
   ]
  },
  {
   "cell_type": "markdown",
   "id": "abb7eaae-b400-45d9-b14e-7600c9398d11",
   "metadata": {},
   "source": [
    "Some genes in our source dataset could be missing from the target data, so we\n",
    "manually expand the target data with zero-paddings:"
   ]
  },
  {
   "cell_type": "code",
   "execution_count": 6,
   "id": "8a66b31e-0cfc-427f-bc4e-da25bb1d2e0c",
   "metadata": {
    "execution": {
     "iopub.execute_input": "2025-03-23T09:32:33.887171Z",
     "iopub.status.busy": "2025-03-23T09:32:33.886965Z",
     "iopub.status.idle": "2025-03-23T09:32:33.894189Z",
     "shell.execute_reply": "2025-03-23T09:32:33.893720Z",
     "shell.execute_reply.started": "2025-03-23T09:32:33.887153Z"
    }
   },
   "outputs": [
    {
     "data": {
      "text/plain": [
       "(930, 134)"
      ]
     },
     "execution_count": 6,
     "metadata": {},
     "output_type": "execute_result"
    }
   ],
   "source": [
    "common_vars = [i for i in adata.var_names if i in target.var_names]\n",
    "missing_vars = [i for i in adata.var_names if i not in target.var_names]\n",
    "len(common_vars), len(missing_vars)"
   ]
  },
  {
   "cell_type": "code",
   "execution_count": 7,
   "id": "a385c2b0-2b74-4652-8045-4bf208f3b908",
   "metadata": {
    "execution": {
     "iopub.execute_input": "2025-03-23T09:32:33.895042Z",
     "iopub.status.busy": "2025-03-23T09:32:33.894858Z",
     "iopub.status.idle": "2025-03-23T09:32:35.415799Z",
     "shell.execute_reply": "2025-03-23T09:32:35.415069Z",
     "shell.execute_reply.started": "2025-03-23T09:32:33.895025Z"
    }
   },
   "outputs": [
    {
     "data": {
      "text/plain": [
       "AnnData object with n_obs × n_vars = 74460 × 27203\n",
       "    obs: 'Clusters', 'batch', 'stage', 'ncounts'"
      ]
     },
     "execution_count": 7,
     "metadata": {},
     "output_type": "execute_result"
    }
   ],
   "source": [
    "empty = ad.AnnData(\n",
    "    X=csr_matrix((target.n_obs, len(missing_vars)), dtype=target.X.dtype),\n",
    "    obs=target.obs,\n",
    "    var=pd.DataFrame(index=missing_vars),\n",
    ")\n",
    "target = ad.concat([target, empty], axis=1, merge=\"first\")\n",
    "target"
   ]
  },
  {
   "cell_type": "markdown",
   "id": "ffd42550-66ad-4284-835c-41559e5e99cf",
   "metadata": {},
   "source": [
    "Similar to the training data, we backup the raw counts and log-normalize the\n",
    "dataset."
   ]
  },
  {
   "cell_type": "code",
   "execution_count": 8,
   "id": "800aa648-ead5-4d40-9854-5c0295f19bea",
   "metadata": {
    "execution": {
     "iopub.execute_input": "2025-03-23T09:32:35.418310Z",
     "iopub.status.busy": "2025-03-23T09:32:35.418092Z",
     "iopub.status.idle": "2025-03-23T09:32:36.544245Z",
     "shell.execute_reply": "2025-03-23T09:32:36.543449Z",
     "shell.execute_reply.started": "2025-03-23T09:32:35.418290Z"
    }
   },
   "outputs": [],
   "source": [
    "target.layers[\"counts\"] = target.X.copy()\n",
    "sc.pp.normalize_total(target, target_sum=1e4)\n",
    "sc.pp.log1p(target)"
   ]
  },
  {
   "cell_type": "markdown",
   "id": "814ccbd3-0811-4f8d-88ff-84c41b36bb07",
   "metadata": {},
   "source": [
    "We'd also need to configure the target dataset. Of note, the target data\n",
    "configuration should provide the same covariate as the training data. However,\n",
    "it obviously does not have batch info compatible with the training data.\n",
    "\n",
    "Here we are using a rough approach of simply taking the covariate\n",
    "of random training cells. Another possibility is to take the covariate of\n",
    "training cells most similar to the target cells, based on the expression levels\n",
    "of housekeeping genes."
   ]
  },
  {
   "cell_type": "code",
   "execution_count": 9,
   "id": "d709a98f-23d6-4989-917d-bdb2635d47d9",
   "metadata": {
    "execution": {
     "iopub.execute_input": "2025-03-23T09:32:36.545162Z",
     "iopub.status.busy": "2025-03-23T09:32:36.544968Z",
     "iopub.status.idle": "2025-03-23T09:32:36.551924Z",
     "shell.execute_reply": "2025-03-23T09:32:36.551201Z",
     "shell.execute_reply.started": "2025-03-23T09:32:36.545143Z"
    }
   },
   "outputs": [],
   "source": [
    "target.obsm[\"covariate\"] = source.obsm[\"covariate\"][\n",
    "    np.random.choice(source.n_obs, target.n_obs)\n",
    "]"
   ]
  },
  {
   "cell_type": "code",
   "execution_count": 10,
   "id": "8f197cf9-b2d6-4d34-bae2-a6ed74f8cfc6",
   "metadata": {
    "execution": {
     "iopub.execute_input": "2025-03-23T09:32:36.552785Z",
     "iopub.status.busy": "2025-03-23T09:32:36.552604Z",
     "iopub.status.idle": "2025-03-23T09:32:36.558087Z",
     "shell.execute_reply": "2025-03-23T09:32:36.557400Z",
     "shell.execute_reply.started": "2025-03-23T09:32:36.552767Z"
    }
   },
   "outputs": [
    {
     "data": {
      "text/plain": [
       "{'regime': None,\n",
       " 'covariate': 'covariate',\n",
       " 'size': 'ncounts',\n",
       " 'weight': None,\n",
       " 'layer': 'counts'}"
      ]
     },
     "execution_count": 10,
     "metadata": {},
     "output_type": "execute_result"
    }
   ],
   "source": [
    "configure_dataset(\n",
    "    target, use_covariate=\"covariate\", use_size=\"ncounts\", use_layer=\"counts\"\n",
    ")\n",
    "get_configuration(target)"
   ]
  },
  {
   "cell_type": "markdown",
   "id": "18c6c5a9-1c36-4019-b76e-8f0116973622",
   "metadata": {},
   "source": [
    "## Define gene weights\n",
    "\n",
    "Given that the source and target data were produced with different experimental\n",
    "protocols in different studies, batch effect would be a substantial problem.\n",
    "To mitigate this issue, we give higher weight to known erythroid markers when\n",
    "comparing counterfactual states with the target state during intervention\n",
    "design, which helps avoid learning batch effect between source and target."
   ]
  },
  {
   "cell_type": "code",
   "execution_count": 11,
   "id": "846c3207-d75a-4dfc-b3b7-55daba11b294",
   "metadata": {
    "execution": {
     "iopub.execute_input": "2025-03-23T09:32:36.558885Z",
     "iopub.status.busy": "2025-03-23T09:32:36.558698Z",
     "iopub.status.idle": "2025-03-23T09:32:36.571089Z",
     "shell.execute_reply": "2025-03-23T09:32:36.570380Z",
     "shell.execute_reply.started": "2025-03-23T09:32:36.558868Z"
    }
   },
   "outputs": [
    {
     "data": {
      "text/plain": [
       "25"
      ]
     },
     "execution_count": 11,
     "metadata": {},
     "output_type": "execute_result"
    }
   ],
   "source": [
    "markers = [\n",
    "    \"AHSP\",\n",
    "    \"ALAS2\",\n",
    "    \"ALDOA\",\n",
    "    \"BLVRB\",\n",
    "    \"BPGM\",\n",
    "    \"CLIC1\",\n",
    "    \"ENO1\",\n",
    "    \"GYPA\",\n",
    "    \"GYPB\",\n",
    "    \"HAMP\",\n",
    "    \"HBA1\",\n",
    "    \"HBA2\",\n",
    "    \"HBB\",\n",
    "    \"HBD\",\n",
    "    \"HBE1\",\n",
    "    \"HBG1\",\n",
    "    \"HBG2\",\n",
    "    \"HBZ\",\n",
    "    \"HEMGN\",\n",
    "    \"LDHA\",\n",
    "    \"PRDX1\",\n",
    "    \"PRDX2\",\n",
    "    \"SLC25A37\",\n",
    "    \"SLC4A1\",\n",
    "    \"SMIM1\",\n",
    "]\n",
    "assert not set(markers) - set(adata.var_names)\n",
    "assert not set(markers) - set(target.var_names)\n",
    "len(markers)"
   ]
  },
  {
   "cell_type": "code",
   "execution_count": 12,
   "id": "7306b5f2-d9da-48d9-b490-289531c9d20c",
   "metadata": {
    "execution": {
     "iopub.execute_input": "2025-03-23T09:32:36.571774Z",
     "iopub.status.busy": "2025-03-23T09:32:36.571600Z",
     "iopub.status.idle": "2025-03-23T09:32:36.576925Z",
     "shell.execute_reply": "2025-03-23T09:32:36.576248Z",
     "shell.execute_reply.started": "2025-03-23T09:32:36.571758Z"
    }
   },
   "outputs": [
    {
     "data": {
      "text/plain": [
       "905"
      ]
     },
     "execution_count": 12,
     "metadata": {},
     "output_type": "execute_result"
    }
   ],
   "source": [
    "non_markers = [i for i in common_vars if i not in markers]\n",
    "len(non_markers)"
   ]
  },
  {
   "cell_type": "code",
   "execution_count": 13,
   "id": "defa71f8-50c0-423e-9446-59063c9adecc",
   "metadata": {
    "execution": {
     "iopub.execute_input": "2025-03-23T09:32:36.577700Z",
     "iopub.status.busy": "2025-03-23T09:32:36.577529Z",
     "iopub.status.idle": "2025-03-23T09:32:36.584341Z",
     "shell.execute_reply": "2025-03-23T09:32:36.583652Z",
     "shell.execute_reply.started": "2025-03-23T09:32:36.577685Z"
    }
   },
   "outputs": [],
   "source": [
    "target.var[\"weight\"] = 0.0\n",
    "target.var.loc[non_markers, \"weight\"] = len(common_vars) / len(non_markers) / 2\n",
    "target.var.loc[markers, \"weight\"] = len(common_vars) / len(markers) / 2"
   ]
  },
  {
   "cell_type": "code",
   "execution_count": 14,
   "id": "1b05ef02-d9be-4fdd-8124-7a72ee31f461",
   "metadata": {
    "execution": {
     "iopub.execute_input": "2025-03-23T09:32:36.585121Z",
     "iopub.status.busy": "2025-03-23T09:32:36.584950Z",
     "iopub.status.idle": "2025-03-23T09:32:36.592525Z",
     "shell.execute_reply": "2025-03-23T09:32:36.591843Z",
     "shell.execute_reply.started": "2025-03-23T09:32:36.585105Z"
    }
   },
   "outputs": [
    {
     "data": {
      "text/plain": [
       "SAMD11     0.513812\n",
       "HES4       0.513812\n",
       "ISG15      0.513812\n",
       "RNF223     0.513812\n",
       "TNFRSF4    0.513812\n",
       "Name: weight, dtype: float64"
      ]
     },
     "execution_count": 14,
     "metadata": {},
     "output_type": "execute_result"
    }
   ],
   "source": [
    "target.var.loc[non_markers, \"weight\"].head()"
   ]
  },
  {
   "cell_type": "code",
   "execution_count": 15,
   "id": "184f9d06-b1ca-4250-8d67-85af7e5f5786",
   "metadata": {
    "execution": {
     "iopub.execute_input": "2025-03-23T09:32:36.593369Z",
     "iopub.status.busy": "2025-03-23T09:32:36.593199Z",
     "iopub.status.idle": "2025-03-23T09:32:36.599672Z",
     "shell.execute_reply": "2025-03-23T09:32:36.598995Z",
     "shell.execute_reply.started": "2025-03-23T09:32:36.593353Z"
    }
   },
   "outputs": [
    {
     "data": {
      "text/plain": [
       "AHSP     18.6\n",
       "ALAS2    18.6\n",
       "ALDOA    18.6\n",
       "BLVRB    18.6\n",
       "BPGM     18.6\n",
       "Name: weight, dtype: float64"
      ]
     },
     "execution_count": 15,
     "metadata": {},
     "output_type": "execute_result"
    }
   ],
   "source": [
    "target.var.loc[markers, \"weight\"].head()"
   ]
  },
  {
   "cell_type": "markdown",
   "id": "253d3b75-0754-4ea7-9565-12a12fc1ef5d",
   "metadata": {},
   "source": [
    "In this case we scaled the gene weights so that the total weight of marker genes\n",
    "equals and the total weight of non-marker genes, and genes that were zero-padded\n",
    "in the target data were given zero weight, so they will not bias the result.\n",
    "\n",
    "## Specify candidate genes\n",
    "\n",
    "We can also provide a candidate gene pool, e.g., we'll just use genes perturbed\n",
    "in the CRISPRa dataset that show higher expression in the target cells:"
   ]
  },
  {
   "cell_type": "code",
   "execution_count": 16,
   "id": "f85e1dec-0e0b-4d29-8336-4738b7081895",
   "metadata": {
    "execution": {
     "iopub.execute_input": "2025-03-23T09:32:36.600604Z",
     "iopub.status.busy": "2025-03-23T09:32:36.600425Z",
     "iopub.status.idle": "2025-03-23T09:32:37.439052Z",
     "shell.execute_reply": "2025-03-23T09:32:37.438288Z",
     "shell.execute_reply.started": "2025-03-23T09:32:36.600588Z"
    }
   },
   "outputs": [
    {
     "data": {
      "text/plain": [
       "['ARRDC3',\n",
       " 'ATL1',\n",
       " 'BPGM',\n",
       " 'CDKN1A',\n",
       " 'CDKN1B',\n",
       " 'CDKN1C',\n",
       " 'CEBPA',\n",
       " 'CEBPB',\n",
       " 'COL1A1',\n",
       " 'CSRNP1',\n",
       " 'EGR1',\n",
       " 'ETS2',\n",
       " 'FOSB',\n",
       " 'FOXF1',\n",
       " 'HNF4A',\n",
       " 'HOXA13',\n",
       " 'IER5L',\n",
       " 'IGDCC3',\n",
       " 'IRF1',\n",
       " 'JUN',\n",
       " 'KLF1',\n",
       " 'MAML2',\n",
       " 'MAP2K3',\n",
       " 'MAP2K6',\n",
       " 'MAP3K21',\n",
       " 'MAP4K5',\n",
       " 'MEIS1',\n",
       " 'MIDEAS',\n",
       " 'PRDM1',\n",
       " 'PRTG',\n",
       " 'PTPN13',\n",
       " 'RUNX1T1',\n",
       " 'SGK1',\n",
       " 'SLC38A2',\n",
       " 'SLC4A1',\n",
       " 'SNAI1',\n",
       " 'SPI1',\n",
       " 'TBX3',\n",
       " 'TGFBR2',\n",
       " 'TSC22D1',\n",
       " 'ZBTB1',\n",
       " 'ZBTB10']"
      ]
     },
     "execution_count": 16,
     "metadata": {},
     "output_type": "execute_result"
    }
   ],
   "source": [
    "all_targets = sorted(get_all_targets(adata, \"knockup\"))\n",
    "target_mask = (\n",
    "    target[:, all_targets].to_df().mean() > adata[:, all_targets].to_df().mean()\n",
    ")\n",
    "candidates = target_mask.index[target_mask].to_list()\n",
    "candidates"
   ]
  },
  {
   "cell_type": "markdown",
   "id": "f57d86ed-7264-4759-aba4-85f703e6ddc8",
   "metadata": {},
   "source": [
    "## Run intervention design\n",
    "\n",
    "> (Estimated time: 10 min – 20 min, depending on computation device)\n",
    "\n",
    "Finally, we can load our trained model for intervention design:"
   ]
  },
  {
   "cell_type": "code",
   "execution_count": 17,
   "id": "6f93041e-f931-44e6-969d-f88489e7dc80",
   "metadata": {
    "execution": {
     "iopub.execute_input": "2025-03-23T09:32:37.440036Z",
     "iopub.status.busy": "2025-03-23T09:32:37.439834Z",
     "iopub.status.idle": "2025-03-23T09:32:37.931893Z",
     "shell.execute_reply": "2025-03-23T09:32:37.931188Z",
     "shell.execute_reply.started": "2025-03-23T09:32:37.440019Z"
    }
   },
   "outputs": [],
   "source": [
    "cascade = CASCADE.load(\"tune.pt\")"
   ]
  },
  {
   "cell_type": "markdown",
   "id": "14fffd8e-849e-41d3-b6a2-bb3e4ad90ee6",
   "metadata": {},
   "source": [
    "For the sake of speed, we will subsample both the source and target data to\n",
    "5,000 cells."
   ]
  },
  {
   "cell_type": "code",
   "execution_count": 18,
   "id": "b886d7c0-31b4-45a2-b785-7b069bf3cfb2",
   "metadata": {
    "execution": {
     "iopub.execute_input": "2025-03-23T09:32:37.932958Z",
     "iopub.status.busy": "2025-03-23T09:32:37.932694Z",
     "iopub.status.idle": "2025-03-23T09:32:38.133815Z",
     "shell.execute_reply": "2025-03-23T09:32:38.133298Z",
     "shell.execute_reply.started": "2025-03-23T09:32:37.932933Z"
    }
   },
   "outputs": [],
   "source": [
    "sc.pp.subsample(source, n_obs=5000)\n",
    "sc.pp.subsample(target, n_obs=5000)"
   ]
  },
  {
   "cell_type": "markdown",
   "id": "5b72dbcb-0081-44e7-bc06-123092f89cfc",
   "metadata": {},
   "source": [
    "CASCADE model provides a dedicated [design](api/cascade.model.CASCADE.design.rst)\n",
    "method for intervention design, which uses differentiable optimization to\n",
    "optimize interventions that produces effects more similar to the target state.\n",
    "\n",
    "We'll need to pass the source and target datasets, along with a candidate gene\n",
    "pool, a maximal combination order (`design_size=1` for designing single-gene\n",
    "perturbations), as well as the target gene weight we just assigned."
   ]
  },
  {
   "cell_type": "code",
   "execution_count": 19,
   "id": "14cc407b-4d29-4b6f-8e3f-c82855234f45",
   "metadata": {
    "execution": {
     "iopub.execute_input": "2025-03-23T09:32:38.134753Z",
     "iopub.status.busy": "2025-03-23T09:32:38.134560Z",
     "iopub.status.idle": "2025-03-23T09:47:16.615367Z",
     "shell.execute_reply": "2025-03-23T09:47:16.614649Z",
     "shell.execute_reply.started": "2025-03-23T09:32:38.134735Z"
    }
   },
   "outputs": [
    {
     "name": "stderr",
     "output_type": "stream",
     "text": [
      "\u001b[32m17:32:38.143\u001b[0m | \u001b[33m\u001b[1mWARNING \u001b[0m | \u001b[33m3810563\u001b[0m:\u001b[36mmodel\u001b[0m:\u001b[36malign_vars\u001b[0m - \u001b[33m\u001b[1m26139 variables are not in the `scaffold` and will thus be ignored.\u001b[0m\n"
     ]
    },
    {
     "name": "stdout",
     "output_type": "stream",
     "text": [
      "\u001b[32m17:32:38.151\u001b[0m | \u001b[1mINFO    \u001b[0m | \u001b[33m3810563\u001b[0m:\u001b[36mutils\u001b[0m:\u001b[36mautodevice\u001b[0m - \u001b[1mUsing GPU [1] as computation device.\u001b[0m\n"
     ]
    },
    {
     "data": {
      "text/html": [
       "<pre style=\"white-space:pre;overflow-x:auto;line-height:normal;font-family:Menlo,'DejaVu Sans Mono',consolas,'Courier New',monospace\">╭────────────────────────────── cascade-reg ──────────────────────────────╮\n",
       "│                                                                         │\n",
       "│  Training on <span style=\"color: #800080; text-decoration-color: #800080; font-weight: bold\">1064</span> variables with <span style=\"color: #800080; text-decoration-color: #800080; font-weight: bold\">12294</span> scaffold edges and <span style=\"color: #800080; text-decoration-color: #800080; font-weight: bold\">5000</span> samples  │\n",
       "│                                                                         │\n",
       "╰──────────────────────────────── v0.4.0 ─────────────────────────────────╯\n",
       "</pre>\n"
      ],
      "text/plain": [
       "╭────────────────────────────── cascade-reg ──────────────────────────────╮\n",
       "│                                                                         │\n",
       "│  Training on \u001b[1;35m1064\u001b[0m variables with \u001b[1;35m12294\u001b[0m scaffold edges and \u001b[1;35m5000\u001b[0m samples  │\n",
       "│                                                                         │\n",
       "╰──────────────────────────────── v0.4.0 ─────────────────────────────────╯\n"
      ]
     },
     "metadata": {},
     "output_type": "display_data"
    },
    {
     "name": "stdout",
     "output_type": "stream",
     "text": [
      "\u001b[32m17:32:38.325\u001b[0m | \u001b[1mINFO    \u001b[0m | \u001b[33m3810563\u001b[0m:\u001b[36mcore\u001b[0m:\u001b[36mfit_stage\u001b[0m - \u001b[1mNumber of topological generations: [68, 88, 70, 101]\u001b[0m\n"
     ]
    },
    {
     "name": "stderr",
     "output_type": "stream",
     "text": [
      "\n",
      "  | Name         | Type         | Params | Mode \n",
      "------------------------------------------------------\n",
      "0 | scaffold     | Edgewise     | 49.2 K | eval \n",
      "1 | sparse       | L1           | 0      | eval \n",
      "2 | acyc         | SpecNorm     | 0      | eval \n",
      "3 | kernel       | RBF          | 0      | eval \n",
      "4 | latent       | EmbLatent    | 6.3 K  | eval \n",
      "5 | lik          | NegBin       | 0      | eval \n",
      "6 | func         | Func         | 7.9 M  | eval \n",
      "7 | design       | IntervDesign | 8.6 K  | train\n",
      "  | other params | n/a          | 8.5 K  | n/a  \n",
      "------------------------------------------------------\n",
      "10.7 K    Trainable params\n",
      "8.0 M     Non-trainable params\n",
      "8.0 M     Total params\n",
      "31.955    Total estimated model params size (MB)\n",
      "1         Modules in train mode\n",
      "16        Modules in eval mode\n"
     ]
    },
    {
     "data": {
      "application/vnd.jupyter.widget-view+json": {
       "model_id": "56b07ca487474564abdd22ec32d2e4fa",
       "version_major": 2,
       "version_minor": 0
      },
      "text/plain": [
       "Training: |                                                                                                   …"
      ]
     },
     "metadata": {},
     "output_type": "display_data"
    },
    {
     "data": {
      "text/html": [
       "<pre style=\"white-space:pre;overflow-x:auto;line-height:normal;font-family:Menlo,'DejaVu Sans Mono',consolas,'Courier New',monospace\">Restoring best model: log_dir/design/lightning_logs/version_0/checkpoints/<span style=\"color: #808000; text-decoration-color: #808000\">epoch</span>=<span style=\"color: #008080; text-decoration-color: #008080; font-weight: bold\">8</span>-<span style=\"color: #808000; text-decoration-color: #808000\">step</span>=<span style=\"color: #008080; text-decoration-color: #008080; font-weight: bold\">1200.</span>ckpt.\n",
       "</pre>\n"
      ],
      "text/plain": [
       "Restoring best model: log_dir/design/lightning_logs/version_0/checkpoints/\u001b[33mepoch\u001b[0m=\u001b[1;36m8\u001b[0m-\u001b[33mstep\u001b[0m=\u001b[1;36m1200\u001b[0m\u001b[1;36m.\u001b[0mckpt.\n"
      ]
     },
     "metadata": {},
     "output_type": "display_data"
    }
   ],
   "source": [
    "scores, design = cascade.design(\n",
    "    source, target, pool=candidates, design_size=1, target_weight=\"weight\"\n",
    ")"
   ]
  },
  {
   "cell_type": "markdown",
   "id": "13a2df02-628e-4871-b844-31221d441aef",
   "metadata": {},
   "source": [
    "The `design` method returns two objects:\n",
    "\n",
    "- The `scores` object is a data frame containing scores of candidate genes\n",
    "  (or gene combinations if `design_size` was larger than 1).\n",
    "- The `design` object is an [IntervDesign](api/cascade.nn.IntervDesign.rst)\n",
    "  module that contains both the scores and optimized interventional scales and\n",
    "  biases for the designed interventions, which can also be saved and loaded just\n",
    "  like the CASCADE model."
   ]
  },
  {
   "cell_type": "code",
   "execution_count": 20,
   "id": "f87871fb-601c-4124-aaf3-4311ef9f7c75",
   "metadata": {
    "execution": {
     "iopub.execute_input": "2025-03-23T09:47:16.617144Z",
     "iopub.status.busy": "2025-03-23T09:47:16.616547Z",
     "iopub.status.idle": "2025-03-23T09:47:16.629375Z",
     "shell.execute_reply": "2025-03-23T09:47:16.628825Z",
     "shell.execute_reply.started": "2025-03-23T09:47:16.617116Z"
    }
   },
   "outputs": [
    {
     "data": {
      "text/html": [
       "<div>\n",
       "<style scoped>\n",
       "    .dataframe tbody tr th:only-of-type {\n",
       "        vertical-align: middle;\n",
       "    }\n",
       "\n",
       "    .dataframe tbody tr th {\n",
       "        vertical-align: top;\n",
       "    }\n",
       "\n",
       "    .dataframe thead th {\n",
       "        text-align: right;\n",
       "    }\n",
       "</style>\n",
       "<table border=\"1\" class=\"dataframe\">\n",
       "  <thead>\n",
       "    <tr style=\"text-align: right;\">\n",
       "      <th></th>\n",
       "      <th>score</th>\n",
       "    </tr>\n",
       "  </thead>\n",
       "  <tbody>\n",
       "    <tr>\n",
       "      <th>KLF1</th>\n",
       "      <td>10.006369</td>\n",
       "    </tr>\n",
       "    <tr>\n",
       "      <th>BPGM</th>\n",
       "      <td>4.527291</td>\n",
       "    </tr>\n",
       "    <tr>\n",
       "      <th>ATL1</th>\n",
       "      <td>2.883361</td>\n",
       "    </tr>\n",
       "    <tr>\n",
       "      <th>PTPN13</th>\n",
       "      <td>1.928048</td>\n",
       "    </tr>\n",
       "    <tr>\n",
       "      <th>ARRDC3</th>\n",
       "      <td>-0.666598</td>\n",
       "    </tr>\n",
       "  </tbody>\n",
       "</table>\n",
       "</div>"
      ],
      "text/plain": [
       "            score\n",
       "KLF1    10.006369\n",
       "BPGM     4.527291\n",
       "ATL1     2.883361\n",
       "PTPN13   1.928048\n",
       "ARRDC3  -0.666598"
      ]
     },
     "execution_count": 20,
     "metadata": {},
     "output_type": "execute_result"
    }
   ],
   "source": [
    "scores.to_csv(\"design.csv\")\n",
    "scores.head()"
   ]
  },
  {
   "cell_type": "code",
   "execution_count": 21,
   "id": "60253261-d2cf-4e28-beea-1f3d17645742",
   "metadata": {
    "execution": {
     "iopub.execute_input": "2025-03-23T09:47:16.630471Z",
     "iopub.status.busy": "2025-03-23T09:47:16.630235Z",
     "iopub.status.idle": "2025-03-23T09:47:16.639728Z",
     "shell.execute_reply": "2025-03-23T09:47:16.639181Z",
     "shell.execute_reply.started": "2025-03-23T09:47:16.630447Z"
    }
   },
   "outputs": [],
   "source": [
    "design.save(\"design.pt\")\n",
    "design = IntervDesign.load(\"design.pt\")"
   ]
  },
  {
   "cell_type": "markdown",
   "id": "ff2c67a3-8d4b-4db1-8a86-5865e664f404",
   "metadata": {},
   "source": [
    "The same can also be achieved using the\n",
    "[command line interface](cli.rst#intervention-design)\n",
    "with the following command.\n",
    "\n",
    "```sh\n",
    "cascade design -d source.h5ad -m tune.pt -t target.h5ad \\\n",
    "    --pool candidates.txt -o design.csv -u design.pt \\\n",
    "    --design-size 1 --target-weight weight [other options]\n",
    "```"
   ]
  },
  {
   "cell_type": "markdown",
   "id": "23111147-bd9e-4b08-bd68-64c766cdfa50",
   "metadata": {},
   "source": [
    "## Determine design score cutoff"
   ]
  },
  {
   "cell_type": "code",
   "execution_count": 22,
   "id": "98b932d8-af6e-45ca-b9a1-cd0ad151d363",
   "metadata": {
    "execution": {
     "iopub.execute_input": "2025-03-23T10:02:56.555914Z",
     "iopub.status.busy": "2025-03-23T10:02:56.555617Z",
     "iopub.status.idle": "2025-03-23T10:07:34.241738Z",
     "shell.execute_reply": "2025-03-23T10:07:34.241066Z",
     "shell.execute_reply.started": "2025-03-23T10:02:56.555891Z"
    }
   },
   "outputs": [
    {
     "name": "stderr",
     "output_type": "stream",
     "text": [
      "\u001b[32m18:02:56.569\u001b[0m | \u001b[33m\u001b[1mWARNING \u001b[0m | \u001b[33m3810563\u001b[0m:\u001b[36mmodel\u001b[0m:\u001b[36malign_vars\u001b[0m - \u001b[33m\u001b[1m26139 variables are not in the `scaffold` and will thus be ignored.\u001b[0m\n",
      "/rd1/user/caozj/CASCADE/conda/lib/python3.11/site-packages/anndata/_core/anndata.py:1818: UserWarning: Observation names are not unique. To make them unique, call `.obs_names_make_unique`.\n",
      "  utils.warn_names_duplicates(\"obs\")\n",
      "/rd1/user/caozj/CASCADE/conda/lib/python3.11/site-packages/anndata/utils.py:260: UserWarning: Suffix used (-[0-9]+) to deduplicate index values may make index values difficult to interpret. There values with a similar suffixes in the index. Consider using a different delimiter by passing `join={delimiter}`Example key collisions generated by the make_index_unique algorithm: ['ATTCTACAGCGTCAAG-1', 'CTTCTCTCATCGACGC-1', 'TACGGATGTGATGTCT-1', 'AGCCTAAAGAAACCTA-1', 'AACTCAGAGCTCCCAG-1']\n",
      "  warnings.warn(\n"
     ]
    },
    {
     "name": "stdout",
     "output_type": "stream",
     "text": [
      "\u001b[32m18:03:00.430\u001b[0m | \u001b[1mINFO    \u001b[0m | \u001b[33m3810563\u001b[0m:\u001b[36mcore\u001b[0m:\u001b[36mpredict_mode\u001b[0m - \u001b[1mNumber of topological generations: [68, 88, 70, 101]\u001b[0m\n"
     ]
    },
    {
     "data": {
      "application/vnd.jupyter.widget-view+json": {
       "model_id": "36720c1532c64aae8240c2be5b1e5589",
       "version_major": 2,
       "version_minor": 0
      },
      "text/plain": [
       "Predicting: |                                                                                                 …"
      ]
     },
     "metadata": {},
     "output_type": "display_data"
    }
   ],
   "source": [
    "curve, cutoff = cascade.design_error_curve(source, target, design, n_cells=5000)"
   ]
  },
  {
   "cell_type": "code",
   "execution_count": 23,
   "id": "87bc8f09-75b0-48dd-9974-f35c1d908c04",
   "metadata": {
    "execution": {
     "iopub.execute_input": "2025-03-23T10:07:44.007325Z",
     "iopub.status.busy": "2025-03-23T10:07:44.006668Z",
     "iopub.status.idle": "2025-03-23T10:07:44.241195Z",
     "shell.execute_reply": "2025-03-23T10:07:44.240438Z",
     "shell.execute_reply.started": "2025-03-23T10:07:44.007300Z"
    }
   },
   "outputs": [
    {
     "data": {
      "text/plain": [
       "<Axes: xlabel='Design score', ylabel='MSE estimate'>"
      ]
     },
     "execution_count": 23,
     "metadata": {},
     "output_type": "execute_result"
    },
    {
     "data": {
      "image/png": "[encoded data removed]",
      "text/plain": [
       "<Figure size 320x320 with 1 Axes>"
      ]
     },
     "metadata": {
      "image/png": {
       "height": 302,
       "width": 318
      },
      "needs_background": "light"
     },
     "output_type": "display_data"
    }
   ],
   "source": [
    "plot_design_error_curve(curve, cutoff=cutoff)"
   ]
  },
  {
   "cell_type": "markdown",
   "id": "70fbf16f-a787-44c6-b3e8-c8f255b43e05",
   "metadata": {},
   "source": [
    "We can also visualize the scores with a scatter plot:"
   ]
  },
  {
   "cell_type": "code",
   "execution_count": 24,
   "id": "8d427685-9732-4fea-801a-a07ba1ad311a",
   "metadata": {
    "execution": {
     "iopub.execute_input": "2025-03-23T10:07:45.751653Z",
     "iopub.status.busy": "2025-03-23T10:07:45.751373Z",
     "iopub.status.idle": "2025-03-23T10:07:46.026165Z",
     "shell.execute_reply": "2025-03-23T10:07:46.025373Z",
     "shell.execute_reply.started": "2025-03-23T10:07:45.751631Z"
    }
   },
   "outputs": [
    {
     "data": {
      "text/plain": [
       "<Axes: xlabel='Design rank', ylabel='Design score'>"
      ]
     },
     "execution_count": 24,
     "metadata": {},
     "output_type": "execute_result"
    },
    {
     "data": {
      "image/png": "[encoded data removed]",
      "text/plain": [
       "<Figure size 320x320 with 1 Axes>"
      ]
     },
     "metadata": {
      "image/png": {
       "height": 302,
       "width": 316
      },
      "needs_background": "light"
     },
     "output_type": "display_data"
    }
   ],
   "source": [
    "plot_design_scores(scores, cutoff=cutoff)"
   ]
  },
  {
   "attachments": {},
   "cell_type": "markdown",
   "id": "91259c25-6cde-43d7-abdc-7041a3e29db9",
   "metadata": {},
   "source": [
    "## Verify design with counterfactual prediction\n",
    "\n",
    "The designed perturbation can certainly be passed back to the\n",
    "[counterfactual](api/cascade.model.CASCADE.counterfactual.rst) method to verify\n",
    "whether the target markers are up-regulated, just like what we did in\n",
    "[stage 3](counterfactual.ipynb).\n",
    "\n",
    "One notable difference is that we need to specify the `design` argument of the\n",
    "[counterfactual](api/cascade.model.CASCADE.counterfactual.rst) method, which\n",
    "tells the model to use the designed interventional scales and biases\n",
    "(instead of those from the training set) when making counterfactual\n",
    "predictions."
   ]
  },
  {
   "cell_type": "code",
   "execution_count": 25,
   "id": "ef02ad10-2cde-41df-9b45-040cde2ee79e",
   "metadata": {
    "execution": {
     "iopub.execute_input": "2025-03-23T10:07:47.756140Z",
     "iopub.status.busy": "2025-03-23T10:07:47.755906Z",
     "iopub.status.idle": "2025-03-23T10:07:48.126901Z",
     "shell.execute_reply": "2025-03-23T10:07:48.126122Z",
     "shell.execute_reply.started": "2025-03-23T10:07:47.756121Z"
    }
   },
   "outputs": [
    {
     "name": "stderr",
     "output_type": "stream",
     "text": [
      "\u001b[32m18:07:48.121\u001b[0m | \u001b[33m\u001b[1mWARNING \u001b[0m | \u001b[33m3810563\u001b[0m:\u001b[36mdata\u001b[0m:\u001b[36mencode_regime\u001b[0m - \u001b[33m\u001b[1mOverwriting existing regime \"ctfact\".\u001b[0m\n"
     ]
    }
   ],
   "source": [
    "source.obs[\"my_pert\"] = \"KLF1\"\n",
    "encode_regime(source, \"ctfact\", key=\"my_pert\")"
   ]
  },
  {
   "cell_type": "code",
   "execution_count": 26,
   "id": "1a509af4-f1ce-48e6-b835-4877e837184b",
   "metadata": {
    "execution": {
     "iopub.execute_input": "2025-03-23T10:07:48.187539Z",
     "iopub.status.busy": "2025-03-23T10:07:48.187335Z",
     "iopub.status.idle": "2025-03-23T10:07:56.707109Z",
     "shell.execute_reply": "2025-03-23T10:07:56.706157Z",
     "shell.execute_reply.started": "2025-03-23T10:07:48.187521Z"
    }
   },
   "outputs": [
    {
     "name": "stderr",
     "output_type": "stream",
     "text": [
      "\u001b[32m18:07:48.188\u001b[0m | \u001b[33m\u001b[1mWARNING \u001b[0m | \u001b[33m3810563\u001b[0m:\u001b[36mdata\u001b[0m:\u001b[36mconfigure_dataset\u001b[0m - \u001b[33m\u001b[1mOverwriting existing `regime` = \"interv\".\u001b[0m\n"
     ]
    },
    {
     "name": "stdout",
     "output_type": "stream",
     "text": [
      "\u001b[32m18:07:48.370\u001b[0m | \u001b[1mINFO    \u001b[0m | \u001b[33m3810563\u001b[0m:\u001b[36mcore\u001b[0m:\u001b[36mpredict_mode\u001b[0m - \u001b[1mNumber of topological generations: [68, 88, 70, 101]\u001b[0m\n"
     ]
    },
    {
     "data": {
      "application/vnd.jupyter.widget-view+json": {
       "model_id": "a9a049b623ba4c848472dac8057dd989",
       "version_major": 2,
       "version_minor": 0
      },
      "text/plain": [
       "Predicting: |                                                                                                 …"
      ]
     },
     "metadata": {},
     "output_type": "display_data"
    }
   ],
   "source": [
    "configure_dataset(source, use_regime=\"ctfact\")\n",
    "ctfact = cascade.counterfactual(source, design=design, sample=True)"
   ]
  },
  {
   "cell_type": "code",
   "execution_count": 27,
   "id": "d5ced311-eea9-4979-9c4d-3633beeb94d9",
   "metadata": {
    "execution": {
     "iopub.execute_input": "2025-03-23T10:07:56.708902Z",
     "iopub.status.busy": "2025-03-23T10:07:56.708674Z",
     "iopub.status.idle": "2025-03-23T10:08:05.456742Z",
     "shell.execute_reply": "2025-03-23T10:08:05.456022Z",
     "shell.execute_reply.started": "2025-03-23T10:07:56.708879Z"
    }
   },
   "outputs": [
    {
     "name": "stderr",
     "output_type": "stream",
     "text": [
      "\u001b[32m18:07:56.710\u001b[0m | \u001b[33m\u001b[1mWARNING \u001b[0m | \u001b[33m3810563\u001b[0m:\u001b[36mdata\u001b[0m:\u001b[36mconfigure_dataset\u001b[0m - \u001b[33m\u001b[1mOverwriting existing `regime` = \"ctfact\".\u001b[0m\n"
     ]
    },
    {
     "name": "stdout",
     "output_type": "stream",
     "text": [
      "\u001b[32m18:07:57.178\u001b[0m | \u001b[1mINFO    \u001b[0m | \u001b[33m3810563\u001b[0m:\u001b[36mcore\u001b[0m:\u001b[36mpredict_mode\u001b[0m - \u001b[1mNumber of topological generations: [68, 88, 70, 101]\u001b[0m\n"
     ]
    },
    {
     "data": {
      "application/vnd.jupyter.widget-view+json": {
       "model_id": "79b9e0e88921485b900ddf4948848c6a",
       "version_major": 2,
       "version_minor": 0
      },
      "text/plain": [
       "Predicting: |                                                                                                 …"
      ]
     },
     "metadata": {},
     "output_type": "display_data"
    }
   ],
   "source": [
    "configure_dataset(source, use_regime=\"interv\")\n",
    "nil = cascade.counterfactual(source, design=design, sample=True)"
   ]
  },
  {
   "cell_type": "code",
   "execution_count": 28,
   "id": "01fd956d-7b1b-4cb6-9d3d-76a33cb7e889",
   "metadata": {
    "execution": {
     "iopub.execute_input": "2025-03-23T10:08:05.458023Z",
     "iopub.status.busy": "2025-03-23T10:08:05.457785Z",
     "iopub.status.idle": "2025-03-23T10:08:05.709447Z",
     "shell.execute_reply": "2025-03-23T10:08:05.708687Z",
     "shell.execute_reply.started": "2025-03-23T10:08:05.458000Z"
    }
   },
   "outputs": [
    {
     "data": {
      "text/plain": [
       "AnnData object with n_obs × n_vars = 10000 × 1064\n",
       "    obs: 'guide_id', 'gemgroup', 'ncounts', 'knockup', 'my_pert', 'role'\n",
       "    obsm: 'X_pca', 'covariate'\n",
       "    layers: 'counts', 'interv', 'ctfact', 'X_ctfact'"
      ]
     },
     "execution_count": 28,
     "metadata": {},
     "output_type": "execute_result"
    }
   ],
   "source": [
    "combined = ad.concat({\"nil\": nil, \"ctfact\": ctfact}, label=\"role\", index_unique=\"-\")\n",
    "combined.X = np.log1p(combined.X * (1e4 / combined.obs[[\"ncounts\"]].to_numpy()))\n",
    "combined"
   ]
  },
  {
   "cell_type": "code",
   "execution_count": 29,
   "id": "84c8a39b-b967-4aef-b260-4b2e85c4f534",
   "metadata": {
    "execution": {
     "iopub.execute_input": "2025-03-23T10:08:05.711046Z",
     "iopub.status.busy": "2025-03-23T10:08:05.710839Z",
     "iopub.status.idle": "2025-03-23T10:08:06.062374Z",
     "shell.execute_reply": "2025-03-23T10:08:06.061724Z",
     "shell.execute_reply.started": "2025-03-23T10:08:05.711028Z"
    }
   },
   "outputs": [
    {
     "name": "stderr",
     "output_type": "stream",
     "text": [
      "/rd1/user/caozj/CASCADE/conda/lib/python3.11/site-packages/pandas/core/arraylike.py:399: RuntimeWarning: divide by zero encountered in log10\n",
      "  result = getattr(ufunc, method)(*inputs, **kwargs)\n"
     ]
    },
    {
     "data": {
      "text/html": [
       "<div>\n",
       "<style scoped>\n",
       "    .dataframe tbody tr th:only-of-type {\n",
       "        vertical-align: middle;\n",
       "    }\n",
       "\n",
       "    .dataframe tbody tr th {\n",
       "        vertical-align: top;\n",
       "    }\n",
       "\n",
       "    .dataframe thead th {\n",
       "        text-align: right;\n",
       "    }\n",
       "</style>\n",
       "<table border=\"1\" class=\"dataframe\">\n",
       "  <thead>\n",
       "    <tr style=\"text-align: right;\">\n",
       "      <th></th>\n",
       "      <th>names</th>\n",
       "      <th>scores</th>\n",
       "      <th>logfoldchanges</th>\n",
       "      <th>pvals</th>\n",
       "      <th>pvals_adj</th>\n",
       "      <th>pct_nz_group</th>\n",
       "      <th>-logfdr</th>\n",
       "      <th>is_marker</th>\n",
       "    </tr>\n",
       "  </thead>\n",
       "  <tbody>\n",
       "    <tr>\n",
       "      <th>0</th>\n",
       "      <td>KLF1</td>\n",
       "      <td>492.331299</td>\n",
       "      <td>2.114285</td>\n",
       "      <td>0.0</td>\n",
       "      <td>0.0</td>\n",
       "      <td>1.0</td>\n",
       "      <td>350.0</td>\n",
       "      <td>False</td>\n",
       "    </tr>\n",
       "    <tr>\n",
       "      <th>1</th>\n",
       "      <td>PNMT</td>\n",
       "      <td>438.697296</td>\n",
       "      <td>2.480975</td>\n",
       "      <td>0.0</td>\n",
       "      <td>0.0</td>\n",
       "      <td>1.0</td>\n",
       "      <td>350.0</td>\n",
       "      <td>False</td>\n",
       "    </tr>\n",
       "    <tr>\n",
       "      <th>2</th>\n",
       "      <td>TMSB10</td>\n",
       "      <td>366.669769</td>\n",
       "      <td>1.523769</td>\n",
       "      <td>0.0</td>\n",
       "      <td>0.0</td>\n",
       "      <td>1.0</td>\n",
       "      <td>350.0</td>\n",
       "      <td>False</td>\n",
       "    </tr>\n",
       "    <tr>\n",
       "      <th>3</th>\n",
       "      <td>S100A10</td>\n",
       "      <td>247.035904</td>\n",
       "      <td>1.381347</td>\n",
       "      <td>0.0</td>\n",
       "      <td>0.0</td>\n",
       "      <td>1.0</td>\n",
       "      <td>350.0</td>\n",
       "      <td>False</td>\n",
       "    </tr>\n",
       "    <tr>\n",
       "      <th>4</th>\n",
       "      <td>HBG2</td>\n",
       "      <td>236.489166</td>\n",
       "      <td>1.407301</td>\n",
       "      <td>0.0</td>\n",
       "      <td>0.0</td>\n",
       "      <td>1.0</td>\n",
       "      <td>350.0</td>\n",
       "      <td>True</td>\n",
       "    </tr>\n",
       "  </tbody>\n",
       "</table>\n",
       "</div>"
      ],
      "text/plain": [
       "     names      scores  logfoldchanges  pvals  pvals_adj  pct_nz_group  \\\n",
       "0     KLF1  492.331299        2.114285    0.0        0.0           1.0   \n",
       "1     PNMT  438.697296        2.480975    0.0        0.0           1.0   \n",
       "2   TMSB10  366.669769        1.523769    0.0        0.0           1.0   \n",
       "3  S100A10  247.035904        1.381347    0.0        0.0           1.0   \n",
       "4     HBG2  236.489166        1.407301    0.0        0.0           1.0   \n",
       "\n",
       "   -logfdr  is_marker  \n",
       "0    350.0      False  \n",
       "1    350.0      False  \n",
       "2    350.0      False  \n",
       "3    350.0      False  \n",
       "4    350.0       True  "
      ]
     },
     "execution_count": 29,
     "metadata": {},
     "output_type": "execute_result"
    }
   ],
   "source": [
    "sc.tl.rank_genes_groups(combined, \"role\", reference=\"nil\", rankby_abs=True, pts=True)\n",
    "de_df = sc.get.rank_genes_groups_df(combined, \"ctfact\").query(\"pct_nz_group > 0.05\")\n",
    "de_df[\"-logfdr\"] = -np.log10(de_df[\"pvals_adj\"]).clip(lower=-350)\n",
    "de_df[\"is_marker\"] = de_df[\"names\"].isin(markers)\n",
    "de_df.head()"
   ]
  },
  {
   "cell_type": "code",
   "execution_count": 30,
   "id": "eab251ad-0895-48a6-a36c-df9652bab3ee",
   "metadata": {
    "execution": {
     "iopub.execute_input": "2025-03-23T10:08:24.795005Z",
     "iopub.status.busy": "2025-03-23T10:08:24.794609Z",
     "iopub.status.idle": "2025-03-23T10:08:25.061306Z",
     "shell.execute_reply": "2025-03-23T10:08:25.060563Z",
     "shell.execute_reply.started": "2025-03-23T10:08:24.794984Z"
    }
   },
   "outputs": [
    {
     "data": {
      "image/png": "[encoded data removed]",
      "text/plain": [
       "<Figure size 320x320 with 1 Axes>"
      ]
     },
     "metadata": {
      "image/png": {
       "height": 302,
       "width": 327
      },
      "needs_background": "light"
     },
     "output_type": "display_data"
    }
   ],
   "source": [
    "_ = sns.scatterplot(\n",
    "    data=de_df, x=\"logfoldchanges\", y=\"-logfdr\", hue=\"is_marker\", edgecolor=None, s=10\n",
    ")"
   ]
  }
 ],
 "metadata": {
  "jupytext": {
   "formats": "ipynb,py:percent"
  },
  "kernelspec": {
   "display_name": "Python 3 (ipykernel)",
   "language": "python",
   "name": "python3"
  },
  "language_info": {
   "codemirror_mode": {
    "name": "ipython",
    "version": 3
   },
   "file_extension": ".py",
   "mimetype": "text/x-python",
   "name": "python",
   "nbconvert_exporter": "python",
   "pygments_lexer": "ipython3",
   "version": "3.11.9"
  },
  "widgets": {
   "application/vnd.jupyter.widget-state+json": {
    "state": {},
    "version_major": 2,
    "version_minor": 0
   }
  }
 },
 "nbformat": 4,
 "nbformat_minor": 5
}
